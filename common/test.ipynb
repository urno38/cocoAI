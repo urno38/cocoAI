{
 "cells": [
  {
   "cell_type": "code",
   "execution_count": 1,
   "metadata": {},
   "outputs": [],
   "source": [
    "# from extract_KBIS import *\n",
    "\n",
    "\n",
    "# KBIS_path_list = list(\n",
    "#             Path(\n",
    "#                 r\"C:\\Users\\lvolat\\COMPTOIRS ET COMMERCES\\COMMERCIAL - Documents\\2 - DOSSIERS à l'ETUDE\\JAD - PARIS 75002 - 35 Bld BONNE NOUVELLE\\2. JURIDIQUE - SOCIÉTÉ\"\n",
    "#             ).glob(\"*KBIS*\")\n",
    "#         )\n",
    "# df = pd.concat([get_infos(get_SIREN(p)) for p in KBIS_path_list])"
   ]
  },
  {
   "cell_type": "code",
   "execution_count": 2,
   "metadata": {},
   "outputs": [
    {
     "name": "stdout",
     "output_type": "stream",
     "text": [
      "logfile available C:\\Users\\lvolat\\Documents\\cocoAI\\common\\ipykernel_launcher.log\n"
     ]
    },
    {
     "name": "stderr",
     "output_type": "stream",
     "text": [
      "cocoAI - INFO - source file C:\\Users\\lvolat\\COMPTOIRS ET COMMERCES\\COMMERCIAL - Documents\\2 - DOSSIERS à l'ETUDE\\JAD - PARIS 75002 - 35 Bld BONNE NOUVELLE\\2. JURIDIQUE - SOCIÉTÉ\\2. JAD - Kbis - 35 et 37 Bd de Bonne Nouvelle.PDF\n",
      "cocoAI - INFO - work file C:\\Users\\lvolat\\Documents\\cocoAI\\data\\2_DOSSIERS_a_l'ETUDE\\JAD_PARIS_75002_35_Bld_BONNE_NOUVELLE\\2._JURIDIQUE_SOCIÉTÉ\\2._JAD_Kbis_35_et_37_Bd_de_Bonne_Nouvelle.PDF\n",
      "cocoAI - INFO - request exported to C:\\Users\\lvolat\\Documents\\cocoAI\\data\\2_DOSSIERS_a_l'ETUDE\\JAD_PARIS_75002_35_Bld_BONNE_NOUVELLE\\2._JURIDIQUE_SOCIÉTÉ\\2._JAD_Kbis_35_et_37_Bd_de_Bonne_Nouvelle.request\n",
      "cocoAI - INFO - source file C:\\Users\\lvolat\\COMPTOIRS ET COMMERCES\\COMMERCIAL - Documents\\2 - DOSSIERS à l'ETUDE\\JAD - PARIS 75002 - 35 Bld BONNE NOUVELLE\\2. JURIDIQUE - SOCIÉTÉ\\2. Kbis - KADI INVEST.pdf\n",
      "cocoAI - INFO - work file C:\\Users\\lvolat\\Documents\\cocoAI\\data\\2_DOSSIERS_a_l'ETUDE\\JAD_PARIS_75002_35_Bld_BONNE_NOUVELLE\\2._JURIDIQUE_SOCIÉTÉ\\2._Kbis_KADI_INVEST.pdf\n",
      "cocoAI - INFO - request exported to C:\\Users\\lvolat\\Documents\\cocoAI\\data\\2_DOSSIERS_a_l'ETUDE\\JAD_PARIS_75002_35_Bld_BONNE_NOUVELLE\\2._JURIDIQUE_SOCIÉTÉ\\2._Kbis_KADI_INVEST.request\n",
      "cocoAI - INFO - source file C:\\Users\\lvolat\\COMPTOIRS ET COMMERCES\\COMMERCIAL - Documents\\2 - DOSSIERS à l'ETUDE\\JAD - PARIS 75002 - 35 Bld BONNE NOUVELLE\\2. JURIDIQUE - SOCIÉTÉ\\2. SKJ - Extrait KBIS.pdf\n",
      "cocoAI - INFO - work file C:\\Users\\lvolat\\Documents\\cocoAI\\data\\2_DOSSIERS_a_l'ETUDE\\JAD_PARIS_75002_35_Bld_BONNE_NOUVELLE\\2._JURIDIQUE_SOCIÉTÉ\\2._SKJ_Extrait_KBIS.pdf\n",
      "cocoAI - INFO - request exported to C:\\Users\\lvolat\\Documents\\cocoAI\\data\\2_DOSSIERS_a_l'ETUDE\\JAD_PARIS_75002_35_Bld_BONNE_NOUVELLE\\2._JURIDIQUE_SOCIÉTÉ\\2._SKJ_Extrait_KBIS.request\n"
     ]
    },
    {
     "data": {
      "text/plain": [
       "['SOLI']"
      ]
     },
     "execution_count": 2,
     "metadata": {},
     "output_type": "execute_result"
    }
   ],
   "source": [
    "from cocoAI.extract_KBIS import *\n",
    "KBIS_path_list = list(\n",
    "            Path(\n",
    "                r\"C:\\Users\\lvolat\\COMPTOIRS ET COMMERCES\\COMMERCIAL - Documents\\2 - DOSSIERS à l'ETUDE\\JAD - PARIS 75002 - 35 Bld BONNE NOUVELLE\\2. JURIDIQUE - SOCIÉTÉ\"\n",
    "            ).glob(\"*KBIS*\")\n",
    "        )\n",
    "get_most_recent_names(KBIS_path_list)"
   ]
  },
  {
   "cell_type": "code",
   "execution_count": 3,
   "metadata": {},
   "outputs": [],
   "source": [
    "SIREN = 977946425\n",
    "response = get_sirene_infos_from_SIREN(str(SIREN))\n",
    "di = response.json()"
   ]
  },
  {
   "cell_type": "code",
   "execution_count": 4,
   "metadata": {},
   "outputs": [
    {
     "data": {
      "text/plain": [
       "{'header': {'statut': 200, 'message': 'OK'},\n",
       " 'uniteLegale': {'siren': '977946425',\n",
       "  'statutDiffusionUniteLegale': 'O',\n",
       "  'dateCreationUniteLegale': '2023-07-20',\n",
       "  'sigleUniteLegale': None,\n",
       "  'sexeUniteLegale': None,\n",
       "  'prenom1UniteLegale': None,\n",
       "  'prenom2UniteLegale': None,\n",
       "  'prenom3UniteLegale': None,\n",
       "  'prenom4UniteLegale': None,\n",
       "  'prenomUsuelUniteLegale': None,\n",
       "  'pseudonymeUniteLegale': None,\n",
       "  'identifiantAssociationUniteLegale': None,\n",
       "  'trancheEffectifsUniteLegale': None,\n",
       "  'anneeEffectifsUniteLegale': None,\n",
       "  'dateDernierTraitementUniteLegale': '2024-10-22T05:43:27.724',\n",
       "  'nombrePeriodesUniteLegale': 2,\n",
       "  'categorieEntreprise': None,\n",
       "  'anneeCategorieEntreprise': None,\n",
       "  'periodesUniteLegale': [{'dateFin': None,\n",
       "    'dateDebut': '2024-05-06',\n",
       "    'etatAdministratifUniteLegale': 'A',\n",
       "    'changementEtatAdministratifUniteLegale': False,\n",
       "    'nomUniteLegale': None,\n",
       "    'changementNomUniteLegale': False,\n",
       "    'nomUsageUniteLegale': None,\n",
       "    'changementNomUsageUniteLegale': False,\n",
       "    'denominationUniteLegale': 'SKJ',\n",
       "    'changementDenominationUniteLegale': False,\n",
       "    'denominationUsuelle1UniteLegale': None,\n",
       "    'denominationUsuelle2UniteLegale': None,\n",
       "    'denominationUsuelle3UniteLegale': None,\n",
       "    'changementDenominationUsuelleUniteLegale': False,\n",
       "    'categorieJuridiqueUniteLegale': '5710',\n",
       "    'changementCategorieJuridiqueUniteLegale': False,\n",
       "    'activitePrincipaleUniteLegale': '56.10C',\n",
       "    'nomenclatureActivitePrincipaleUniteLegale': 'NAFRev2',\n",
       "    'changementActivitePrincipaleUniteLegale': True,\n",
       "    'nicSiegeUniteLegale': '00013',\n",
       "    'changementNicSiegeUniteLegale': False,\n",
       "    'economieSocialeSolidaireUniteLegale': 'N',\n",
       "    'changementEconomieSocialeSolidaireUniteLegale': False,\n",
       "    'societeMissionUniteLegale': None,\n",
       "    'changementSocieteMissionUniteLegale': False,\n",
       "    'caractereEmployeurUniteLegale': None,\n",
       "    'changementCaractereEmployeurUniteLegale': False},\n",
       "   {'dateFin': '2024-05-05',\n",
       "    'dateDebut': '2023-07-20',\n",
       "    'etatAdministratifUniteLegale': 'A',\n",
       "    'changementEtatAdministratifUniteLegale': False,\n",
       "    'nomUniteLegale': None,\n",
       "    'changementNomUniteLegale': False,\n",
       "    'nomUsageUniteLegale': None,\n",
       "    'changementNomUsageUniteLegale': False,\n",
       "    'denominationUniteLegale': 'SKJ',\n",
       "    'changementDenominationUniteLegale': False,\n",
       "    'denominationUsuelle1UniteLegale': None,\n",
       "    'denominationUsuelle2UniteLegale': None,\n",
       "    'denominationUsuelle3UniteLegale': None,\n",
       "    'changementDenominationUsuelleUniteLegale': False,\n",
       "    'categorieJuridiqueUniteLegale': '5710',\n",
       "    'changementCategorieJuridiqueUniteLegale': False,\n",
       "    'activitePrincipaleUniteLegale': '00.00Z',\n",
       "    'nomenclatureActivitePrincipaleUniteLegale': 'NAFRev2',\n",
       "    'changementActivitePrincipaleUniteLegale': False,\n",
       "    'nicSiegeUniteLegale': '00013',\n",
       "    'changementNicSiegeUniteLegale': False,\n",
       "    'economieSocialeSolidaireUniteLegale': 'N',\n",
       "    'changementEconomieSocialeSolidaireUniteLegale': False,\n",
       "    'societeMissionUniteLegale': None,\n",
       "    'changementSocieteMissionUniteLegale': False,\n",
       "    'caractereEmployeurUniteLegale': None,\n",
       "    'changementCaractereEmployeurUniteLegale': False}]}}"
      ]
     },
     "execution_count": 4,
     "metadata": {},
     "output_type": "execute_result"
    }
   ],
   "source": [
    "di"
   ]
  },
  {
   "cell_type": "code",
   "execution_count": 5,
   "metadata": {},
   "outputs": [],
   "source": [
    "df = pd.concat([pd.DataFrame(di['uniteLegale']['periodesUniteLegale'])])"
   ]
  },
  {
   "cell_type": "code",
   "execution_count": 6,
   "metadata": {},
   "outputs": [
    {
     "data": {
      "text/html": [
       "<div>\n",
       "<style scoped>\n",
       "    .dataframe tbody tr th:only-of-type {\n",
       "        vertical-align: middle;\n",
       "    }\n",
       "\n",
       "    .dataframe tbody tr th {\n",
       "        vertical-align: top;\n",
       "    }\n",
       "\n",
       "    .dataframe thead th {\n",
       "        text-align: right;\n",
       "    }\n",
       "</style>\n",
       "<table border=\"1\" class=\"dataframe\">\n",
       "  <thead>\n",
       "    <tr style=\"text-align: right;\">\n",
       "      <th></th>\n",
       "      <th>0</th>\n",
       "    </tr>\n",
       "  </thead>\n",
       "  <tbody>\n",
       "    <tr>\n",
       "      <th>dateFin</th>\n",
       "      <td>None</td>\n",
       "    </tr>\n",
       "    <tr>\n",
       "      <th>dateDebut</th>\n",
       "      <td>2024-05-06</td>\n",
       "    </tr>\n",
       "    <tr>\n",
       "      <th>etatAdministratifUniteLegale</th>\n",
       "      <td>A</td>\n",
       "    </tr>\n",
       "    <tr>\n",
       "      <th>changementEtatAdministratifUniteLegale</th>\n",
       "      <td>False</td>\n",
       "    </tr>\n",
       "    <tr>\n",
       "      <th>nomUniteLegale</th>\n",
       "      <td>None</td>\n",
       "    </tr>\n",
       "    <tr>\n",
       "      <th>changementNomUniteLegale</th>\n",
       "      <td>False</td>\n",
       "    </tr>\n",
       "    <tr>\n",
       "      <th>nomUsageUniteLegale</th>\n",
       "      <td>None</td>\n",
       "    </tr>\n",
       "    <tr>\n",
       "      <th>changementNomUsageUniteLegale</th>\n",
       "      <td>False</td>\n",
       "    </tr>\n",
       "    <tr>\n",
       "      <th>denominationUniteLegale</th>\n",
       "      <td>SKJ</td>\n",
       "    </tr>\n",
       "    <tr>\n",
       "      <th>changementDenominationUniteLegale</th>\n",
       "      <td>False</td>\n",
       "    </tr>\n",
       "    <tr>\n",
       "      <th>denominationUsuelle1UniteLegale</th>\n",
       "      <td>None</td>\n",
       "    </tr>\n",
       "    <tr>\n",
       "      <th>denominationUsuelle2UniteLegale</th>\n",
       "      <td>None</td>\n",
       "    </tr>\n",
       "    <tr>\n",
       "      <th>denominationUsuelle3UniteLegale</th>\n",
       "      <td>None</td>\n",
       "    </tr>\n",
       "    <tr>\n",
       "      <th>changementDenominationUsuelleUniteLegale</th>\n",
       "      <td>False</td>\n",
       "    </tr>\n",
       "    <tr>\n",
       "      <th>categorieJuridiqueUniteLegale</th>\n",
       "      <td>5710</td>\n",
       "    </tr>\n",
       "    <tr>\n",
       "      <th>changementCategorieJuridiqueUniteLegale</th>\n",
       "      <td>False</td>\n",
       "    </tr>\n",
       "    <tr>\n",
       "      <th>activitePrincipaleUniteLegale</th>\n",
       "      <td>56.10C</td>\n",
       "    </tr>\n",
       "    <tr>\n",
       "      <th>nomenclatureActivitePrincipaleUniteLegale</th>\n",
       "      <td>NAFRev2</td>\n",
       "    </tr>\n",
       "    <tr>\n",
       "      <th>changementActivitePrincipaleUniteLegale</th>\n",
       "      <td>True</td>\n",
       "    </tr>\n",
       "    <tr>\n",
       "      <th>nicSiegeUniteLegale</th>\n",
       "      <td>00013</td>\n",
       "    </tr>\n",
       "    <tr>\n",
       "      <th>changementNicSiegeUniteLegale</th>\n",
       "      <td>False</td>\n",
       "    </tr>\n",
       "    <tr>\n",
       "      <th>economieSocialeSolidaireUniteLegale</th>\n",
       "      <td>N</td>\n",
       "    </tr>\n",
       "    <tr>\n",
       "      <th>changementEconomieSocialeSolidaireUniteLegale</th>\n",
       "      <td>False</td>\n",
       "    </tr>\n",
       "    <tr>\n",
       "      <th>societeMissionUniteLegale</th>\n",
       "      <td>None</td>\n",
       "    </tr>\n",
       "    <tr>\n",
       "      <th>changementSocieteMissionUniteLegale</th>\n",
       "      <td>False</td>\n",
       "    </tr>\n",
       "    <tr>\n",
       "      <th>caractereEmployeurUniteLegale</th>\n",
       "      <td>None</td>\n",
       "    </tr>\n",
       "    <tr>\n",
       "      <th>changementCaractereEmployeurUniteLegale</th>\n",
       "      <td>False</td>\n",
       "    </tr>\n",
       "  </tbody>\n",
       "</table>\n",
       "</div>"
      ],
      "text/plain": [
       "                                                        0\n",
       "dateFin                                              None\n",
       "dateDebut                                      2024-05-06\n",
       "etatAdministratifUniteLegale                            A\n",
       "changementEtatAdministratifUniteLegale              False\n",
       "nomUniteLegale                                       None\n",
       "changementNomUniteLegale                            False\n",
       "nomUsageUniteLegale                                  None\n",
       "changementNomUsageUniteLegale                       False\n",
       "denominationUniteLegale                               SKJ\n",
       "changementDenominationUniteLegale                   False\n",
       "denominationUsuelle1UniteLegale                      None\n",
       "denominationUsuelle2UniteLegale                      None\n",
       "denominationUsuelle3UniteLegale                      None\n",
       "changementDenominationUsuelleUniteLegale            False\n",
       "categorieJuridiqueUniteLegale                        5710\n",
       "changementCategorieJuridiqueUniteLegale             False\n",
       "activitePrincipaleUniteLegale                      56.10C\n",
       "nomenclatureActivitePrincipaleUniteLegale         NAFRev2\n",
       "changementActivitePrincipaleUniteLegale              True\n",
       "nicSiegeUniteLegale                                 00013\n",
       "changementNicSiegeUniteLegale                       False\n",
       "economieSocialeSolidaireUniteLegale                     N\n",
       "changementEconomieSocialeSolidaireUniteLegale       False\n",
       "societeMissionUniteLegale                            None\n",
       "changementSocieteMissionUniteLegale                 False\n",
       "caractereEmployeurUniteLegale                        None\n",
       "changementCaractereEmployeurUniteLegale             False"
      ]
     },
     "execution_count": 6,
     "metadata": {},
     "output_type": "execute_result"
    }
   ],
   "source": [
    "df[df.dateDebut==df.dateDebut.max()].T"
   ]
  },
  {
   "cell_type": "code",
   "execution_count": 7,
   "metadata": {},
   "outputs": [
    {
     "data": {
      "text/plain": [
       "False"
      ]
     },
     "execution_count": 7,
     "metadata": {},
     "output_type": "execute_result"
    }
   ],
   "source": [
    "'SKJ' in str(KBIS_path_list[0].parent)"
   ]
  },
  {
   "cell_type": "code",
   "execution_count": 8,
   "metadata": {},
   "outputs": [
    {
     "data": {
      "text/plain": [
       "\"C:\\\\Users\\\\lvolat\\\\COMPTOIRS ET COMMERCES\\\\COMMERCIAL - Documents\\\\2 - DOSSIERS à l'ETUDE\\\\JAD - PARIS 75002 - 35 Bld BONNE NOUVELLE\\\\2. JURIDIQUE - SOCIÉTÉ\""
      ]
     },
     "execution_count": 8,
     "metadata": {},
     "output_type": "execute_result"
    }
   ],
   "source": [
    "str(KBIS_path_list[0].parent)"
   ]
  },
  {
   "cell_type": "code",
   "execution_count": 9,
   "metadata": {},
   "outputs": [
    {
     "data": {
      "text/plain": [
       "True"
      ]
     },
     "execution_count": 9,
     "metadata": {},
     "output_type": "execute_result"
    }
   ],
   "source": [
    "'JAD' in str(KBIS_path_list[0].parent)"
   ]
  },
  {
   "cell_type": "code",
   "execution_count": 10,
   "metadata": {},
   "outputs": [
    {
     "name": "stderr",
     "output_type": "stream",
     "text": [
      "cocoAI - INFO - source file C:\\Users\\lvolat\\COMPTOIRS ET COMMERCES\\COMMERCIAL - Documents\\2 - DOSSIERS à l'ETUDE\\JAD - PARIS 75002 - 35 Bld BONNE NOUVELLE\\2. JURIDIQUE - SOCIÉTÉ\\2. JAD - Kbis - 35 et 37 Bd de Bonne Nouvelle.PDF\n",
      "cocoAI - INFO - work file C:\\Users\\lvolat\\Documents\\cocoAI\\data\\2_DOSSIERS_a_l'ETUDE\\JAD_PARIS_75002_35_Bld_BONNE_NOUVELLE\\2._JURIDIQUE_SOCIÉTÉ\\2._JAD_Kbis_35_et_37_Bd_de_Bonne_Nouvelle.PDF\n",
      "cocoAI - INFO - request exported to C:\\Users\\lvolat\\Documents\\cocoAI\\data\\2_DOSSIERS_a_l'ETUDE\\JAD_PARIS_75002_35_Bld_BONNE_NOUVELLE\\2._JURIDIQUE_SOCIÉTÉ\\2._JAD_Kbis_35_et_37_Bd_de_Bonne_Nouvelle.request\n",
      "cocoAI - INFO - source file C:\\Users\\lvolat\\COMPTOIRS ET COMMERCES\\COMMERCIAL - Documents\\2 - DOSSIERS à l'ETUDE\\JAD - PARIS 75002 - 35 Bld BONNE NOUVELLE\\2. JURIDIQUE - SOCIÉTÉ\\2. Kbis - KADI INVEST.pdf\n",
      "cocoAI - INFO - work file C:\\Users\\lvolat\\Documents\\cocoAI\\data\\2_DOSSIERS_a_l'ETUDE\\JAD_PARIS_75002_35_Bld_BONNE_NOUVELLE\\2._JURIDIQUE_SOCIÉTÉ\\2._Kbis_KADI_INVEST.pdf\n",
      "cocoAI - INFO - request exported to C:\\Users\\lvolat\\Documents\\cocoAI\\data\\2_DOSSIERS_a_l'ETUDE\\JAD_PARIS_75002_35_Bld_BONNE_NOUVELLE\\2._JURIDIQUE_SOCIÉTÉ\\2._Kbis_KADI_INVEST.request\n",
      "cocoAI - INFO - source file C:\\Users\\lvolat\\COMPTOIRS ET COMMERCES\\COMMERCIAL - Documents\\2 - DOSSIERS à l'ETUDE\\JAD - PARIS 75002 - 35 Bld BONNE NOUVELLE\\2. JURIDIQUE - SOCIÉTÉ\\2. SKJ - Extrait KBIS.pdf\n",
      "cocoAI - INFO - work file C:\\Users\\lvolat\\Documents\\cocoAI\\data\\2_DOSSIERS_a_l'ETUDE\\JAD_PARIS_75002_35_Bld_BONNE_NOUVELLE\\2._JURIDIQUE_SOCIÉTÉ\\2._SKJ_Extrait_KBIS.pdf\n",
      "cocoAI - INFO - request exported to C:\\Users\\lvolat\\Documents\\cocoAI\\data\\2_DOSSIERS_a_l'ETUDE\\JAD_PARIS_75002_35_Bld_BONNE_NOUVELLE\\2._JURIDIQUE_SOCIÉTÉ\\2._SKJ_Extrait_KBIS.request\n"
     ]
    },
    {
     "data": {
      "text/plain": [
       "'JAD'"
      ]
     },
     "execution_count": 10,
     "metadata": {},
     "output_type": "execute_result"
    }
   ],
   "source": [
    "get_real_name(KBIS_path_list)"
   ]
  },
  {
   "cell_type": "code",
   "execution_count": 11,
   "metadata": {},
   "outputs": [
    {
     "data": {
      "text/html": [
       "<div>\n",
       "<style scoped>\n",
       "    .dataframe tbody tr th:only-of-type {\n",
       "        vertical-align: middle;\n",
       "    }\n",
       "\n",
       "    .dataframe tbody tr th {\n",
       "        vertical-align: top;\n",
       "    }\n",
       "\n",
       "    .dataframe thead th {\n",
       "        text-align: right;\n",
       "    }\n",
       "</style>\n",
       "<table border=\"1\" class=\"dataframe\">\n",
       "  <thead>\n",
       "    <tr style=\"text-align: right;\">\n",
       "      <th></th>\n",
       "      <th>dateFin</th>\n",
       "      <th>dateDebut</th>\n",
       "      <th>etatAdministratifUniteLegale</th>\n",
       "      <th>changementEtatAdministratifUniteLegale</th>\n",
       "      <th>nomUniteLegale</th>\n",
       "      <th>changementNomUniteLegale</th>\n",
       "      <th>nomUsageUniteLegale</th>\n",
       "      <th>changementNomUsageUniteLegale</th>\n",
       "      <th>denominationUniteLegale</th>\n",
       "      <th>changementDenominationUniteLegale</th>\n",
       "      <th>...</th>\n",
       "      <th>nomenclatureActivitePrincipaleUniteLegale</th>\n",
       "      <th>changementActivitePrincipaleUniteLegale</th>\n",
       "      <th>nicSiegeUniteLegale</th>\n",
       "      <th>changementNicSiegeUniteLegale</th>\n",
       "      <th>economieSocialeSolidaireUniteLegale</th>\n",
       "      <th>changementEconomieSocialeSolidaireUniteLegale</th>\n",
       "      <th>societeMissionUniteLegale</th>\n",
       "      <th>changementSocieteMissionUniteLegale</th>\n",
       "      <th>caractereEmployeurUniteLegale</th>\n",
       "      <th>changementCaractereEmployeurUniteLegale</th>\n",
       "    </tr>\n",
       "  </thead>\n",
       "  <tbody>\n",
       "    <tr>\n",
       "      <th>0</th>\n",
       "      <td>None</td>\n",
       "      <td>2024-05-06</td>\n",
       "      <td>A</td>\n",
       "      <td>False</td>\n",
       "      <td>None</td>\n",
       "      <td>False</td>\n",
       "      <td>None</td>\n",
       "      <td>False</td>\n",
       "      <td>SKJ</td>\n",
       "      <td>False</td>\n",
       "      <td>...</td>\n",
       "      <td>NAFRev2</td>\n",
       "      <td>True</td>\n",
       "      <td>00013</td>\n",
       "      <td>False</td>\n",
       "      <td>N</td>\n",
       "      <td>False</td>\n",
       "      <td>None</td>\n",
       "      <td>False</td>\n",
       "      <td>None</td>\n",
       "      <td>False</td>\n",
       "    </tr>\n",
       "    <tr>\n",
       "      <th>1</th>\n",
       "      <td>2024-05-05</td>\n",
       "      <td>2023-07-20</td>\n",
       "      <td>A</td>\n",
       "      <td>False</td>\n",
       "      <td>None</td>\n",
       "      <td>False</td>\n",
       "      <td>None</td>\n",
       "      <td>False</td>\n",
       "      <td>SKJ</td>\n",
       "      <td>False</td>\n",
       "      <td>...</td>\n",
       "      <td>NAFRev2</td>\n",
       "      <td>False</td>\n",
       "      <td>00013</td>\n",
       "      <td>False</td>\n",
       "      <td>N</td>\n",
       "      <td>False</td>\n",
       "      <td>None</td>\n",
       "      <td>False</td>\n",
       "      <td>None</td>\n",
       "      <td>False</td>\n",
       "    </tr>\n",
       "  </tbody>\n",
       "</table>\n",
       "<p>2 rows × 27 columns</p>\n",
       "</div>"
      ],
      "text/plain": [
       "      dateFin   dateDebut etatAdministratifUniteLegale  \\\n",
       "0        None  2024-05-06                            A   \n",
       "1  2024-05-05  2023-07-20                            A   \n",
       "\n",
       "   changementEtatAdministratifUniteLegale nomUniteLegale  \\\n",
       "0                                   False           None   \n",
       "1                                   False           None   \n",
       "\n",
       "   changementNomUniteLegale nomUsageUniteLegale  \\\n",
       "0                     False                None   \n",
       "1                     False                None   \n",
       "\n",
       "   changementNomUsageUniteLegale denominationUniteLegale  \\\n",
       "0                          False                     SKJ   \n",
       "1                          False                     SKJ   \n",
       "\n",
       "   changementDenominationUniteLegale  ...  \\\n",
       "0                              False  ...   \n",
       "1                              False  ...   \n",
       "\n",
       "  nomenclatureActivitePrincipaleUniteLegale  \\\n",
       "0                                   NAFRev2   \n",
       "1                                   NAFRev2   \n",
       "\n",
       "  changementActivitePrincipaleUniteLegale nicSiegeUniteLegale  \\\n",
       "0                                    True               00013   \n",
       "1                                   False               00013   \n",
       "\n",
       "   changementNicSiegeUniteLegale economieSocialeSolidaireUniteLegale  \\\n",
       "0                          False                                   N   \n",
       "1                          False                                   N   \n",
       "\n",
       "   changementEconomieSocialeSolidaireUniteLegale societeMissionUniteLegale  \\\n",
       "0                                          False                      None   \n",
       "1                                          False                      None   \n",
       "\n",
       "  changementSocieteMissionUniteLegale  caractereEmployeurUniteLegale  \\\n",
       "0                               False                           None   \n",
       "1                               False                           None   \n",
       "\n",
       "  changementCaractereEmployeurUniteLegale  \n",
       "0                                   False  \n",
       "1                                   False  \n",
       "\n",
       "[2 rows x 27 columns]"
      ]
     },
     "execution_count": 11,
     "metadata": {},
     "output_type": "execute_result"
    }
   ],
   "source": [
    "df"
   ]
  },
  {
   "cell_type": "code",
   "execution_count": null,
   "metadata": {},
   "outputs": [
    {
     "ename": "ValueError",
     "evalue": "Invalid file path or buffer object type: <class 'list'>",
     "output_type": "error",
     "traceback": [
      "\u001b[31m---------------------------------------------------------------------------\u001b[39m",
      "\u001b[31mValueError\u001b[39m                                Traceback (most recent call last)",
      "\u001b[36mCell\u001b[39m\u001b[36m \u001b[39m\u001b[32mIn[13]\u001b[39m\u001b[32m, line 3\u001b[39m\n\u001b[32m      1\u001b[39m \u001b[38;5;28;01mimport\u001b[39;00m\u001b[38;5;250m \u001b[39m\u001b[34;01mpandas\u001b[39;00m\u001b[38;5;250m \u001b[39m\u001b[38;5;28;01mas\u001b[39;00m\u001b[38;5;250m \u001b[39m\u001b[34;01mpd\u001b[39;00m\n\u001b[32m      2\u001b[39m \u001b[38;5;28;01mfrom\u001b[39;00m\u001b[38;5;250m \u001b[39m\u001b[34;01mcommon\u001b[39;00m\u001b[34;01m.\u001b[39;00m\u001b[34;01mpath\u001b[39;00m\u001b[38;5;250m \u001b[39m\u001b[38;5;28;01mimport\u001b[39;00m COMMON_PATH\n\u001b[32m----> \u001b[39m\u001b[32m3\u001b[39m df = \u001b[43mpd\u001b[49m\u001b[43m.\u001b[49m\u001b[43mread_excel\u001b[49m\u001b[43m(\u001b[49m\u001b[38;5;28;43mlist\u001b[39;49m\u001b[43m(\u001b[49m\u001b[43mCOMMON_PATH\u001b[49m\u001b[43m.\u001b[49m\u001b[43mglob\u001b[49m\u001b[43m(\u001b[49m\u001b[33;43m'\u001b[39;49m\u001b[33;43m*TRANSACTION*\u001b[39;49m\u001b[33;43m'\u001b[39;49m\u001b[43m)\u001b[49m\u001b[43m)\u001b[49m\u001b[43m)\u001b[49m\n",
      "\u001b[36mFile \u001b[39m\u001b[32mc:\\Users\\lvolat\\Documents\\cocoAI\\.venv\\Lib\\site-packages\\pandas\\io\\excel\\_base.py:495\u001b[39m, in \u001b[36mread_excel\u001b[39m\u001b[34m(io, sheet_name, header, names, index_col, usecols, dtype, engine, converters, true_values, false_values, skiprows, nrows, na_values, keep_default_na, na_filter, verbose, parse_dates, date_parser, date_format, thousands, decimal, comment, skipfooter, storage_options, dtype_backend, engine_kwargs)\u001b[39m\n\u001b[32m    493\u001b[39m \u001b[38;5;28;01mif\u001b[39;00m \u001b[38;5;129;01mnot\u001b[39;00m \u001b[38;5;28misinstance\u001b[39m(io, ExcelFile):\n\u001b[32m    494\u001b[39m     should_close = \u001b[38;5;28;01mTrue\u001b[39;00m\n\u001b[32m--> \u001b[39m\u001b[32m495\u001b[39m     io = \u001b[43mExcelFile\u001b[49m\u001b[43m(\u001b[49m\n\u001b[32m    496\u001b[39m \u001b[43m        \u001b[49m\u001b[43mio\u001b[49m\u001b[43m,\u001b[49m\n\u001b[32m    497\u001b[39m \u001b[43m        \u001b[49m\u001b[43mstorage_options\u001b[49m\u001b[43m=\u001b[49m\u001b[43mstorage_options\u001b[49m\u001b[43m,\u001b[49m\n\u001b[32m    498\u001b[39m \u001b[43m        \u001b[49m\u001b[43mengine\u001b[49m\u001b[43m=\u001b[49m\u001b[43mengine\u001b[49m\u001b[43m,\u001b[49m\n\u001b[32m    499\u001b[39m \u001b[43m        \u001b[49m\u001b[43mengine_kwargs\u001b[49m\u001b[43m=\u001b[49m\u001b[43mengine_kwargs\u001b[49m\u001b[43m,\u001b[49m\n\u001b[32m    500\u001b[39m \u001b[43m    \u001b[49m\u001b[43m)\u001b[49m\n\u001b[32m    501\u001b[39m \u001b[38;5;28;01melif\u001b[39;00m engine \u001b[38;5;129;01mand\u001b[39;00m engine != io.engine:\n\u001b[32m    502\u001b[39m     \u001b[38;5;28;01mraise\u001b[39;00m \u001b[38;5;167;01mValueError\u001b[39;00m(\n\u001b[32m    503\u001b[39m         \u001b[33m\"\u001b[39m\u001b[33mEngine should not be specified when passing \u001b[39m\u001b[33m\"\u001b[39m\n\u001b[32m    504\u001b[39m         \u001b[33m\"\u001b[39m\u001b[33man ExcelFile - ExcelFile already has the engine set\u001b[39m\u001b[33m\"\u001b[39m\n\u001b[32m    505\u001b[39m     )\n",
      "\u001b[36mFile \u001b[39m\u001b[32mc:\\Users\\lvolat\\Documents\\cocoAI\\.venv\\Lib\\site-packages\\pandas\\io\\excel\\_base.py:1550\u001b[39m, in \u001b[36mExcelFile.__init__\u001b[39m\u001b[34m(self, path_or_buffer, engine, storage_options, engine_kwargs)\u001b[39m\n\u001b[32m   1548\u001b[39m     ext = \u001b[33m\"\u001b[39m\u001b[33mxls\u001b[39m\u001b[33m\"\u001b[39m\n\u001b[32m   1549\u001b[39m \u001b[38;5;28;01melse\u001b[39;00m:\n\u001b[32m-> \u001b[39m\u001b[32m1550\u001b[39m     ext = \u001b[43minspect_excel_format\u001b[49m\u001b[43m(\u001b[49m\n\u001b[32m   1551\u001b[39m \u001b[43m        \u001b[49m\u001b[43mcontent_or_path\u001b[49m\u001b[43m=\u001b[49m\u001b[43mpath_or_buffer\u001b[49m\u001b[43m,\u001b[49m\u001b[43m \u001b[49m\u001b[43mstorage_options\u001b[49m\u001b[43m=\u001b[49m\u001b[43mstorage_options\u001b[49m\n\u001b[32m   1552\u001b[39m \u001b[43m    \u001b[49m\u001b[43m)\u001b[49m\n\u001b[32m   1553\u001b[39m     \u001b[38;5;28;01mif\u001b[39;00m ext \u001b[38;5;129;01mis\u001b[39;00m \u001b[38;5;28;01mNone\u001b[39;00m:\n\u001b[32m   1554\u001b[39m         \u001b[38;5;28;01mraise\u001b[39;00m \u001b[38;5;167;01mValueError\u001b[39;00m(\n\u001b[32m   1555\u001b[39m             \u001b[33m\"\u001b[39m\u001b[33mExcel file format cannot be determined, you must specify \u001b[39m\u001b[33m\"\u001b[39m\n\u001b[32m   1556\u001b[39m             \u001b[33m\"\u001b[39m\u001b[33man engine manually.\u001b[39m\u001b[33m\"\u001b[39m\n\u001b[32m   1557\u001b[39m         )\n",
      "\u001b[36mFile \u001b[39m\u001b[32mc:\\Users\\lvolat\\Documents\\cocoAI\\.venv\\Lib\\site-packages\\pandas\\io\\excel\\_base.py:1402\u001b[39m, in \u001b[36minspect_excel_format\u001b[39m\u001b[34m(content_or_path, storage_options)\u001b[39m\n\u001b[32m   1399\u001b[39m \u001b[38;5;28;01mif\u001b[39;00m \u001b[38;5;28misinstance\u001b[39m(content_or_path, \u001b[38;5;28mbytes\u001b[39m):\n\u001b[32m   1400\u001b[39m     content_or_path = BytesIO(content_or_path)\n\u001b[32m-> \u001b[39m\u001b[32m1402\u001b[39m \u001b[38;5;28;01mwith\u001b[39;00m \u001b[43mget_handle\u001b[49m\u001b[43m(\u001b[49m\n\u001b[32m   1403\u001b[39m \u001b[43m    \u001b[49m\u001b[43mcontent_or_path\u001b[49m\u001b[43m,\u001b[49m\u001b[43m \u001b[49m\u001b[33;43m\"\u001b[39;49m\u001b[33;43mrb\u001b[39;49m\u001b[33;43m\"\u001b[39;49m\u001b[43m,\u001b[49m\u001b[43m \u001b[49m\u001b[43mstorage_options\u001b[49m\u001b[43m=\u001b[49m\u001b[43mstorage_options\u001b[49m\u001b[43m,\u001b[49m\u001b[43m \u001b[49m\u001b[43mis_text\u001b[49m\u001b[43m=\u001b[49m\u001b[38;5;28;43;01mFalse\u001b[39;49;00m\n\u001b[32m   1404\u001b[39m \u001b[43m\u001b[49m\u001b[43m)\u001b[49m \u001b[38;5;28;01mas\u001b[39;00m handle:\n\u001b[32m   1405\u001b[39m     stream = handle.handle\n\u001b[32m   1406\u001b[39m     stream.seek(\u001b[32m0\u001b[39m)\n",
      "\u001b[36mFile \u001b[39m\u001b[32mc:\\Users\\lvolat\\Documents\\cocoAI\\.venv\\Lib\\site-packages\\pandas\\io\\common.py:728\u001b[39m, in \u001b[36mget_handle\u001b[39m\u001b[34m(path_or_buf, mode, encoding, compression, memory_map, is_text, errors, storage_options)\u001b[39m\n\u001b[32m    725\u001b[39m     codecs.lookup_error(errors)\n\u001b[32m    727\u001b[39m \u001b[38;5;66;03m# open URLs\u001b[39;00m\n\u001b[32m--> \u001b[39m\u001b[32m728\u001b[39m ioargs = \u001b[43m_get_filepath_or_buffer\u001b[49m\u001b[43m(\u001b[49m\n\u001b[32m    729\u001b[39m \u001b[43m    \u001b[49m\u001b[43mpath_or_buf\u001b[49m\u001b[43m,\u001b[49m\n\u001b[32m    730\u001b[39m \u001b[43m    \u001b[49m\u001b[43mencoding\u001b[49m\u001b[43m=\u001b[49m\u001b[43mencoding\u001b[49m\u001b[43m,\u001b[49m\n\u001b[32m    731\u001b[39m \u001b[43m    \u001b[49m\u001b[43mcompression\u001b[49m\u001b[43m=\u001b[49m\u001b[43mcompression\u001b[49m\u001b[43m,\u001b[49m\n\u001b[32m    732\u001b[39m \u001b[43m    \u001b[49m\u001b[43mmode\u001b[49m\u001b[43m=\u001b[49m\u001b[43mmode\u001b[49m\u001b[43m,\u001b[49m\n\u001b[32m    733\u001b[39m \u001b[43m    \u001b[49m\u001b[43mstorage_options\u001b[49m\u001b[43m=\u001b[49m\u001b[43mstorage_options\u001b[49m\u001b[43m,\u001b[49m\n\u001b[32m    734\u001b[39m \u001b[43m\u001b[49m\u001b[43m)\u001b[49m\n\u001b[32m    736\u001b[39m handle = ioargs.filepath_or_buffer\n\u001b[32m    737\u001b[39m handles: \u001b[38;5;28mlist\u001b[39m[BaseBuffer]\n",
      "\u001b[36mFile \u001b[39m\u001b[32mc:\\Users\\lvolat\\Documents\\cocoAI\\.venv\\Lib\\site-packages\\pandas\\io\\common.py:472\u001b[39m, in \u001b[36m_get_filepath_or_buffer\u001b[39m\u001b[34m(filepath_or_buffer, encoding, compression, mode, storage_options)\u001b[39m\n\u001b[32m    468\u001b[39m \u001b[38;5;28;01mif\u001b[39;00m \u001b[38;5;129;01mnot\u001b[39;00m (\n\u001b[32m    469\u001b[39m     \u001b[38;5;28mhasattr\u001b[39m(filepath_or_buffer, \u001b[33m\"\u001b[39m\u001b[33mread\u001b[39m\u001b[33m\"\u001b[39m) \u001b[38;5;129;01mor\u001b[39;00m \u001b[38;5;28mhasattr\u001b[39m(filepath_or_buffer, \u001b[33m\"\u001b[39m\u001b[33mwrite\u001b[39m\u001b[33m\"\u001b[39m)\n\u001b[32m    470\u001b[39m ):\n\u001b[32m    471\u001b[39m     msg = \u001b[33mf\u001b[39m\u001b[33m\"\u001b[39m\u001b[33mInvalid file path or buffer object type: \u001b[39m\u001b[38;5;132;01m{\u001b[39;00m\u001b[38;5;28mtype\u001b[39m(filepath_or_buffer)\u001b[38;5;132;01m}\u001b[39;00m\u001b[33m\"\u001b[39m\n\u001b[32m--> \u001b[39m\u001b[32m472\u001b[39m     \u001b[38;5;28;01mraise\u001b[39;00m \u001b[38;5;167;01mValueError\u001b[39;00m(msg)\n\u001b[32m    474\u001b[39m \u001b[38;5;28;01mreturn\u001b[39;00m IOArgs(\n\u001b[32m    475\u001b[39m     filepath_or_buffer=filepath_or_buffer,\n\u001b[32m    476\u001b[39m     encoding=encoding,\n\u001b[32m   (...)\u001b[39m\u001b[32m    479\u001b[39m     mode=mode,\n\u001b[32m    480\u001b[39m )\n",
      "\u001b[31mValueError\u001b[39m: Invalid file path or buffer object type: <class 'list'>"
     ]
    }
   ],
   "source": [
    "import pandas as pd\n",
    "from common.path import COMMON_PATH\n",
    "df = pd.read_excel(list(COMMON_PATH.glob('*TRANSACTION*.xlsx')[0]))"
   ]
  }
 ],
 "metadata": {
  "kernelspec": {
   "display_name": ".venv (3.13.2)",
   "language": "python",
   "name": "python3"
  },
  "language_info": {
   "codemirror_mode": {
    "name": "ipython",
    "version": 3
   },
   "file_extension": ".py",
   "mimetype": "text/x-python",
   "name": "python",
   "nbconvert_exporter": "python",
   "pygments_lexer": "ipython3",
   "version": "3.13.2"
  }
 },
 "nbformat": 4,
 "nbformat_minor": 2
}
