{
 "cells": [
  {
   "cell_type": "code",
   "execution_count": null,
   "metadata": {},
   "outputs": [],
   "source": [
    "import requests\n",
    "\n",
    "from common.identifiers import pick_id\n",
    "from common.keys import SIRENE_API_KEY\n",
    "\n",
    "url = 'https://api.insee.fr/api-sirene/3.11'+'/'+siren\n",
    "# params = {\"siren\": pick_id(\"BISTROT_VALOIS\", kind=\"siren\")}\n",
    "headers = {\"X-INSEE-Api-Key-Integration\": SIRENE_API_KEY}\n",
    "response = requests.get(url, headers=headers)"
   ]
  },
  {
   "cell_type": "code",
   "execution_count": null,
   "metadata": {},
   "outputs": [
    {
     "name": "stdout",
     "output_type": "stream",
     "text": [
      "{'siren=481383537'}\n"
     ]
    }
   ],
   "source": [
    "from urllib.parse import urlencode\n",
    "from common.identifiers import pick_id\n",
    "\n",
    "params = {\"siren\": pick_id(\"BISTROT_VALOIS\", kind=\"siren\")}\n",
    "adresse = {urlencode(params)}\n",
    "print(adresse)\n"
   ]
  },
  {
   "cell_type": "code",
   "execution_count": 19,
   "metadata": {},
   "outputs": [
    {
     "name": "stdout",
     "output_type": "stream",
     "text": [
      "('{\"header\":{\"statut\":200,\"message\":\"OK\"},\"uniteLegale\":{\"siren\":\"481383537\",\"statutDiffusionUniteLegale\":\"O\",\"dateCreationUniteLegale\":\"2005-03-14\",\"sigleUniteLegale\":null,\"sexeUniteLegale\":null,\"prenom1UniteLegale\":null,\"prenom2UniteLegale\":null,\"prenom3UniteLegale\":null,\"prenom4UniteLegale\":null,\"prenomUsuelUniteLegale\":null,\"pseudonymeUniteLegale\":null,\"identifiantAssociationUniteLegale\":null,\"trancheEffectifsUniteLegale\":\"03\",\"anneeEffectifsUniteLegale\":\"2022\",\"dateDernierTraitementUniteLegale\":\"2024-03-22T14:26:06.001\",\"nombrePeriodesUniteLegale\":3,\"categorieEntreprise\":\"PME\",\"anneeCategorieEntreprise\":\"2022\",\"periodesUniteLegale\":[{\"dateFin\":null,\"dateDebut\":\"2013-07-31\",\"etatAdministratifUniteLegale\":\"A\",\"changementEtatAdministratifUniteLegale\":false,\"nomUniteLegale\":null,\"changementNomUniteLegale\":false,\"nomUsageUniteLegale\":null,\"changementNomUsageUniteLegale\":false,\"denominationUniteLegale\":\"BISTROT '\n",
      " 'VALOIS\",\"changementDenominationUniteLegale\":true,\"denominationUsuelle1UniteLegale\":null,\"denominationUsuelle2UniteLegale\":null,\"denominationUsuelle3UniteLegale\":null,\"changementDenominationUsuelleUniteLegale\":false,\"categorieJuridiqueUniteLegale\":\"5499\",\"changementCategorieJuridiqueUniteLegale\":false,\"activitePrincipaleUniteLegale\":\"56.10A\",\"nomenclatureActivitePrincipaleUniteLegale\":\"NAFRev2\",\"changementActivitePrincipaleUniteLegale\":false,\"nicSiegeUniteLegale\":\"00018\",\"changementNicSiegeUniteLegale\":false,\"economieSocialeSolidaireUniteLegale\":null,\"changementEconomieSocialeSolidaireUniteLegale\":false,\"societeMissionUniteLegale\":null,\"changementSocieteMissionUniteLegale\":false,\"caractereEmployeurUniteLegale\":null,\"changementCaractereEmployeurUniteLegale\":false},{\"dateFin\":\"2013-07-30\",\"dateDebut\":\"2008-01-01\",\"etatAdministratifUniteLegale\":\"A\",\"changementEtatAdministratifUniteLegale\":false,\"nomUniteLegale\":null,\"changementNomUniteLegale\":false,\"nomUsageUniteLegale\":null,\"changementNomUsageUniteLegale\":false,\"denominationUniteLegale\":\"SARL '\n",
      " 'MASURIER\",\"changementDenominationUniteLegale\":false,\"denominationUsuelle1UniteLegale\":null,\"denominationUsuelle2UniteLegale\":null,\"denominationUsuelle3UniteLegale\":null,\"changementDenominationUsuelleUniteLegale\":false,\"categorieJuridiqueUniteLegale\":\"5499\",\"changementCategorieJuridiqueUniteLegale\":false,\"activitePrincipaleUniteLegale\":\"56.10A\",\"nomenclatureActivitePrincipaleUniteLegale\":\"NAFRev2\",\"changementActivitePrincipaleUniteLegale\":true,\"nicSiegeUniteLegale\":\"00018\",\"changementNicSiegeUniteLegale\":false,\"economieSocialeSolidaireUniteLegale\":null,\"changementEconomieSocialeSolidaireUniteLegale\":false,\"societeMissionUniteLegale\":null,\"changementSocieteMissionUniteLegale\":false,\"caractereEmployeurUniteLegale\":null,\"changementCaractereEmployeurUniteLegale\":false},{\"dateFin\":\"2007-12-31\",\"dateDebut\":\"2005-03-14\",\"etatAdministratifUniteLegale\":\"A\",\"changementEtatAdministratifUniteLegale\":false,\"nomUniteLegale\":null,\"changementNomUniteLegale\":false,\"nomUsageUniteLegale\":null,\"changementNomUsageUniteLegale\":false,\"denominationUniteLegale\":\"SARL '\n",
      " 'MASURIER\",\"changementDenominationUniteLegale\":false,\"denominationUsuelle1UniteLegale\":null,\"denominationUsuelle2UniteLegale\":null,\"denominationUsuelle3UniteLegale\":null,\"changementDenominationUsuelleUniteLegale\":false,\"categorieJuridiqueUniteLegale\":\"5499\",\"changementCategorieJuridiqueUniteLegale\":false,\"activitePrincipaleUniteLegale\":\"55.3A\",\"nomenclatureActivitePrincipaleUniteLegale\":\"NAFRev1\",\"changementActivitePrincipaleUniteLegale\":false,\"nicSiegeUniteLegale\":\"00018\",\"changementNicSiegeUniteLegale\":false,\"economieSocialeSolidaireUniteLegale\":null,\"changementEconomieSocialeSolidaireUniteLegale\":false,\"societeMissionUniteLegale\":null,\"changementSocieteMissionUniteLegale\":false,\"caractereEmployeurUniteLegale\":null,\"changementCaractereEmployeurUniteLegale\":false}]}}')\n"
     ]
    }
   ],
   "source": [
    "import requests\n",
    "\n",
    "from common.identifiers import pick_id\n",
    "from common.keys import SIRENE_API_KEY\n",
    "from pathlib import Path\n",
    "from pprint import pprint\n",
    "\n",
    "from common.REST_API import export_request\n",
    "\n",
    "siren = \"/\".join([\"siren\", pick_id(\"BISTROT_VALOIS\", kind=\"siren\")])\n",
    "url = \"https://api.insee.fr/api-sirene/3.11\" + \"/\" + siren\n",
    "# params = {\"siren\": pick_id(\"BISTROT_VALOIS\", kind=\"siren\")}\n",
    "headers = {\"X-INSEE-Api-Key-Integration\": SIRENE_API_KEY}\n",
    "response = requests.get(url, headers=headers)\n",
    "\n",
    "pprint(response.text)\n",
    "export_request(response, Path(\"toto.yaml\"))"
   ]
  },
  {
   "cell_type": "code",
   "execution_count": null,
   "metadata": {},
   "outputs": [
    {
     "name": "stdout",
     "output_type": "stream",
     "text": [
      "('{\"header\":{\"statut\":200,\"message\":\"OK\"},\"uniteLegale\":{\"siren\":\"481383537\",\"statutDiffusionUniteLegale\":\"O\",\"dateCreationUniteLegale\":\"2005-03-14\",\"sigleUniteLegale\":null,\"sexeUniteLegale\":null,\"prenom1UniteLegale\":null,\"prenom2UniteLegale\":null,\"prenom3UniteLegale\":null,\"prenom4UniteLegale\":null,\"prenomUsuelUniteLegale\":null,\"pseudonymeUniteLegale\":null,\"identifiantAssociationUniteLegale\":null,\"trancheEffectifsUniteLegale\":\"03\",\"anneeEffectifsUniteLegale\":\"2022\",\"dateDernierTraitementUniteLegale\":\"2024-03-22T14:26:06.001\",\"nombrePeriodesUniteLegale\":3,\"categorieEntreprise\":\"PME\",\"anneeCategorieEntreprise\":\"2022\",\"periodesUniteLegale\":[{\"dateFin\":null,\"dateDebut\":\"2013-07-31\",\"etatAdministratifUniteLegale\":\"A\",\"changementEtatAdministratifUniteLegale\":false,\"nomUniteLegale\":null,\"changementNomUniteLegale\":false,\"nomUsageUniteLegale\":null,\"changementNomUsageUniteLegale\":false,\"denominationUniteLegale\":\"BISTROT '\n",
      " 'VALOIS\",\"changementDenominationUniteLegale\":true,\"denominationUsuelle1UniteLegale\":null,\"denominationUsuelle2UniteLegale\":null,\"denominationUsuelle3UniteLegale\":null,\"changementDenominationUsuelleUniteLegale\":false,\"categorieJuridiqueUniteLegale\":\"5499\",\"changementCategorieJuridiqueUniteLegale\":false,\"activitePrincipaleUniteLegale\":\"56.10A\",\"nomenclatureActivitePrincipaleUniteLegale\":\"NAFRev2\",\"changementActivitePrincipaleUniteLegale\":false,\"nicSiegeUniteLegale\":\"00018\",\"changementNicSiegeUniteLegale\":false,\"economieSocialeSolidaireUniteLegale\":null,\"changementEconomieSocialeSolidaireUniteLegale\":false,\"societeMissionUniteLegale\":null,\"changementSocieteMissionUniteLegale\":false,\"caractereEmployeurUniteLegale\":null,\"changementCaractereEmployeurUniteLegale\":false},{\"dateFin\":\"2013-07-30\",\"dateDebut\":\"2008-01-01\",\"etatAdministratifUniteLegale\":\"A\",\"changementEtatAdministratifUniteLegale\":false,\"nomUniteLegale\":null,\"changementNomUniteLegale\":false,\"nomUsageUniteLegale\":null,\"changementNomUsageUniteLegale\":false,\"denominationUniteLegale\":\"SARL '\n",
      " 'MASURIER\",\"changementDenominationUniteLegale\":false,\"denominationUsuelle1UniteLegale\":null,\"denominationUsuelle2UniteLegale\":null,\"denominationUsuelle3UniteLegale\":null,\"changementDenominationUsuelleUniteLegale\":false,\"categorieJuridiqueUniteLegale\":\"5499\",\"changementCategorieJuridiqueUniteLegale\":false,\"activitePrincipaleUniteLegale\":\"56.10A\",\"nomenclatureActivitePrincipaleUniteLegale\":\"NAFRev2\",\"changementActivitePrincipaleUniteLegale\":true,\"nicSiegeUniteLegale\":\"00018\",\"changementNicSiegeUniteLegale\":false,\"economieSocialeSolidaireUniteLegale\":null,\"changementEconomieSocialeSolidaireUniteLegale\":false,\"societeMissionUniteLegale\":null,\"changementSocieteMissionUniteLegale\":false,\"caractereEmployeurUniteLegale\":null,\"changementCaractereEmployeurUniteLegale\":false},{\"dateFin\":\"2007-12-31\",\"dateDebut\":\"2005-03-14\",\"etatAdministratifUniteLegale\":\"A\",\"changementEtatAdministratifUniteLegale\":false,\"nomUniteLegale\":null,\"changementNomUniteLegale\":false,\"nomUsageUniteLegale\":null,\"changementNomUsageUniteLegale\":false,\"denominationUniteLegale\":\"SARL '\n",
      " 'MASURIER\",\"changementDenominationUniteLegale\":false,\"denominationUsuelle1UniteLegale\":null,\"denominationUsuelle2UniteLegale\":null,\"denominationUsuelle3UniteLegale\":null,\"changementDenominationUsuelleUniteLegale\":false,\"categorieJuridiqueUniteLegale\":\"5499\",\"changementCategorieJuridiqueUniteLegale\":false,\"activitePrincipaleUniteLegale\":\"55.3A\",\"nomenclatureActivitePrincipaleUniteLegale\":\"NAFRev1\",\"changementActivitePrincipaleUniteLegale\":false,\"nicSiegeUniteLegale\":\"00018\",\"changementNicSiegeUniteLegale\":false,\"economieSocialeSolidaireUniteLegale\":null,\"changementEconomieSocialeSolidaireUniteLegale\":false,\"societeMissionUniteLegale\":null,\"changementSocieteMissionUniteLegale\":false,\"caractereEmployeurUniteLegale\":null,\"changementCaractereEmployeurUniteLegale\":false}]}}')\n"
     ]
    }
   ],
   "source": []
  }
 ],
 "metadata": {
  "kernelspec": {
   "display_name": ".venv (3.13.2)",
   "language": "python",
   "name": "python3"
  },
  "language_info": {
   "codemirror_mode": {
    "name": "ipython",
    "version": 3
   },
   "file_extension": ".py",
   "mimetype": "text/x-python",
   "name": "python",
   "nbconvert_exporter": "python",
   "pygments_lexer": "ipython3",
   "version": "3.13.2"
  }
 },
 "nbformat": 4,
 "nbformat_minor": 2
}
