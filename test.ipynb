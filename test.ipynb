{
 "cells": [
  {
   "cell_type": "code",
   "execution_count": 1,
   "metadata": {},
   "outputs": [],
   "source": [
    "from common.keys import MISTRAL_API_KEY_PAYANTE\n",
    "from mistralai import Mistral\n",
    "client = Mistral(api_key=MISTRAL_API_KEY_PAYANTE)"
   ]
  },
  {
   "cell_type": "code",
   "execution_count": 3,
   "metadata": {},
   "outputs": [
    {
     "ename": "SDKError",
     "evalue": "API error occurred: Status 422\n{\"detail\": \"Invalid file format.\", \"message\": \"Received file with mimetype application/vnd.openxmlformats-officedocument.spreadsheetml.sheet, only application/pdf, image/.*, application/vnd.openxmlformats-officedocument.wordprocessingml.document, application/vnd.openxmlformats-officedocument.presentationml.presentation, application/epub+zip, application/docbook+xml, application/rtf, application/vnd.oasis.opendocument.text, application/x-biblatex, application/x-bibtex, application/x-endnote+xml, application/x-fictionbook+xml, application/x-ipynb+json, application/x-jats+xml, application/x-latex, application/x-opml+xml, text/troff, text/x-dokuwiki are currently supported\"}",
     "output_type": "error",
     "traceback": [
      "\u001b[31m---------------------------------------------------------------------------\u001b[39m",
      "\u001b[31mSDKError\u001b[39m                                  Traceback (most recent call last)",
      "\u001b[36mCell\u001b[39m\u001b[36m \u001b[39m\u001b[32mIn[3]\u001b[39m\u001b[32m, line 5\u001b[39m\n\u001b[32m      1\u001b[39m \u001b[38;5;28;01mfrom\u001b[39;00m\u001b[38;5;250m \u001b[39m\u001b[34;01mpathlib\u001b[39;00m\u001b[38;5;250m \u001b[39m\u001b[38;5;28;01mimport\u001b[39;00m Path\n\u001b[32m      4\u001b[39m file_path=Path(\u001b[33mr\u001b[39m\u001b[33m'\u001b[39m\u001b[33mC:\u001b[39m\u001b[33m\\\u001b[39m\u001b[33mUsers\u001b[39m\u001b[33m\\\u001b[39m\u001b[33mlvolat\u001b[39m\u001b[33m\\\u001b[39m\u001b[33mDocuments\u001b[39m\u001b[33m\\\u001b[39m\u001b[33mcocoAI\u001b[39m\u001b[33m\\\u001b[39m\u001b[33mdata\u001b[39m\u001b[33m\\\u001b[39m\u001b[33m2_DOSSIERS_lETUDE\u001b[39m\u001b[33m\\\u001b[39m\u001b[33mBISTROT_VALOIS_Le_75001_PARIS_1_Bis_Place_de_VALOIS\u001b[39m\u001b[33m\\\u001b[39m\u001b[33m1._DOSSIER_AFFAIRE_ACC_SOCIT\u001b[39m\u001b[33m\\\u001b[39m\u001b[33mBISTROT_VALOIS_FI.xlsx\u001b[39m\u001b[33m'\u001b[39m)\n\u001b[32m----> \u001b[39m\u001b[32m5\u001b[39m uploaded_file = \u001b[43mclient\u001b[49m\u001b[43m.\u001b[49m\u001b[43mfiles\u001b[49m\u001b[43m.\u001b[49m\u001b[43mupload\u001b[49m\u001b[43m(\u001b[49m\n\u001b[32m      6\u001b[39m \u001b[43m    \u001b[49m\u001b[43mfile\u001b[49m\u001b[43m=\u001b[49m\u001b[43m{\u001b[49m\n\u001b[32m      7\u001b[39m \u001b[43m        \u001b[49m\u001b[33;43m\"\u001b[39;49m\u001b[33;43mfile_name\u001b[39;49m\u001b[33;43m\"\u001b[39;49m\u001b[43m:\u001b[49m\u001b[43m \u001b[49m\u001b[43mfile_path\u001b[49m\u001b[43m.\u001b[49m\u001b[43mname\u001b[49m\u001b[43m,\u001b[49m\n\u001b[32m      8\u001b[39m \u001b[43m        \u001b[49m\u001b[33;43m\"\u001b[39;49m\u001b[33;43mcontent\u001b[39;49m\u001b[33;43m\"\u001b[39;49m\u001b[43m:\u001b[49m\u001b[43m \u001b[49m\u001b[38;5;28;43mopen\u001b[39;49m\u001b[43m(\u001b[49m\u001b[43mfile_path\u001b[49m\u001b[43m,\u001b[49m\u001b[43m \u001b[49m\u001b[33;43m\"\u001b[39;49m\u001b[33;43mrb\u001b[39;49m\u001b[33;43m\"\u001b[39;49m\u001b[43m)\u001b[49m\u001b[43m,\u001b[49m\n\u001b[32m      9\u001b[39m \u001b[43m    \u001b[49m\u001b[43m}\u001b[49m\u001b[43m,\u001b[49m\n\u001b[32m     10\u001b[39m \u001b[43m    \u001b[49m\u001b[43mpurpose\u001b[49m\u001b[43m=\u001b[49m\u001b[33;43m\"\u001b[39;49m\u001b[33;43mocr\u001b[39;49m\u001b[33;43m\"\u001b[39;49m\u001b[43m,\u001b[49m\n\u001b[32m     11\u001b[39m \u001b[43m)\u001b[49m\n\u001b[32m     12\u001b[39m client.files.retrieve(file_id=uploaded_file.id)\n\u001b[32m     13\u001b[39m signed_url = client.files.get_signed_url(file_id=uploaded_file.id)\n",
      "\u001b[36mFile \u001b[39m\u001b[32mc:\\Users\\lvolat\\Documents\\cocoAI\\.venv\\Lib\\site-packages\\mistralai\\files.py:104\u001b[39m, in \u001b[36mFiles.upload\u001b[39m\u001b[34m(self, file, purpose, retries, server_url, timeout_ms, http_headers)\u001b[39m\n\u001b[32m    102\u001b[39m \u001b[38;5;28;01mif\u001b[39;00m utils.match_response(http_res, \u001b[33m\"\u001b[39m\u001b[33m4XX\u001b[39m\u001b[33m\"\u001b[39m, \u001b[33m\"\u001b[39m\u001b[33m*\u001b[39m\u001b[33m\"\u001b[39m):\n\u001b[32m    103\u001b[39m     http_res_text = utils.stream_to_text(http_res)\n\u001b[32m--> \u001b[39m\u001b[32m104\u001b[39m     \u001b[38;5;28;01mraise\u001b[39;00m models.SDKError(\n\u001b[32m    105\u001b[39m         \u001b[33m\"\u001b[39m\u001b[33mAPI error occurred\u001b[39m\u001b[33m\"\u001b[39m, http_res.status_code, http_res_text, http_res\n\u001b[32m    106\u001b[39m     )\n\u001b[32m    107\u001b[39m \u001b[38;5;28;01mif\u001b[39;00m utils.match_response(http_res, \u001b[33m\"\u001b[39m\u001b[33m5XX\u001b[39m\u001b[33m\"\u001b[39m, \u001b[33m\"\u001b[39m\u001b[33m*\u001b[39m\u001b[33m\"\u001b[39m):\n\u001b[32m    108\u001b[39m     http_res_text = utils.stream_to_text(http_res)\n",
      "\u001b[31mSDKError\u001b[39m: API error occurred: Status 422\n{\"detail\": \"Invalid file format.\", \"message\": \"Received file with mimetype application/vnd.openxmlformats-officedocument.spreadsheetml.sheet, only application/pdf, image/.*, application/vnd.openxmlformats-officedocument.wordprocessingml.document, application/vnd.openxmlformats-officedocument.presentationml.presentation, application/epub+zip, application/docbook+xml, application/rtf, application/vnd.oasis.opendocument.text, application/x-biblatex, application/x-bibtex, application/x-endnote+xml, application/x-fictionbook+xml, application/x-ipynb+json, application/x-jats+xml, application/x-latex, application/x-opml+xml, text/troff, text/x-dokuwiki are currently supported\"}"
     ]
    }
   ],
   "source": [
    "from pathlib import Path\n",
    "\n",
    "\n",
    "file_path=Path(r'C:\\Users\\lvolat\\Documents\\cocoAI\\data\\2_DOSSIERS_lETUDE\\BISTROT_VALOIS_Le_75001_PARIS_1_Bis_Place_de_VALOIS\\1._DOSSIER_AFFAIRE_ACC_SOCIT\\BISTROT_VALOIS_FI.xlsx')\n",
    "uploaded_file = client.files.upload(\n",
    "    file={\n",
    "        \"file_name\": file_path.name,\n",
    "        \"content\": open(file_path, \"rb\"),\n",
    "    },\n",
    "    purpose=\"ocr\",\n",
    ")\n",
    "client.files.retrieve(file_id=uploaded_file.id)\n",
    "signed_url = client.files.get_signed_url(file_id=uploaded_file.id)"
   ]
  }
 ],
 "metadata": {
  "kernelspec": {
   "display_name": ".venv (3.13.2)",
   "language": "python",
   "name": "python3"
  },
  "language_info": {
   "codemirror_mode": {
    "name": "ipython",
    "version": 3
   },
   "file_extension": ".py",
   "mimetype": "text/x-python",
   "name": "python",
   "nbconvert_exporter": "python",
   "pygments_lexer": "ipython3",
   "version": "3.13.2"
  }
 },
 "nbformat": 4,
 "nbformat_minor": 2
}
