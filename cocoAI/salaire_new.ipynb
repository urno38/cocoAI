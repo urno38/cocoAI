{
 "cells": [
  {
   "cell_type": "code",
   "execution_count": 1,
   "metadata": {},
   "outputs": [
    {
     "name": "stderr",
     "output_type": "stream",
     "text": [
      "cocoAI - INFO - GALLA_202410 CAMARA Djiedji_Normal.pdf already exists in PAIE_10\n"
     ]
    },
    {
     "name": "stdout",
     "output_type": "stream",
     "text": [
      "logfile available C:\\Users\\lvolat\\Documents\\cocoAI\\cocoAI\\ipykernel_launcher.log\n"
     ]
    }
   ],
   "source": [
    "from salaire import *"
   ]
  },
  {
   "cell_type": "code",
   "execution_count": 3,
   "metadata": {},
   "outputs": [],
   "source": [
    "tables = extract_markdown_tables(ocr_markdown)"
   ]
  },
  {
   "cell_type": "code",
   "execution_count": 4,
   "metadata": {},
   "outputs": [
    {
     "data": {
      "text/plain": [
       "[\"| $\\\\mathrm{N}^{\\\\circ}$ | Désignation | Nombre | Base | Part salariale |  | Part Patronale |  |\\n| :--: | :--: | :--: | :--: | :--: | :--: | :--: | :--: |\\n|  |  |  |  | Taux | Montant | Taux | Montant |\\n| 0100 | Salaire de base | 151.67 |  | 13.260 | 2011.14 |  |  |\\n| 0106 | Complément de Service |  |  |  | 1328.22 |  |  |\\n| 0200 | Heures supp. structurelles à $110 \\\\%$ Hcr (pour calcul allég.) | 17.33 |  | 15.218 | 263.73 |  |  |\\n| 3205 | Avantages en nature repas non exo. Hcr | 21.00 |  | 4.150 | 87.15 |  |  |\\n| 3999 | Total du brut | 169.00 |  |  | 3690.24 |  |  |\\n| 4000 | Vieillesse déplafonnée |  | 3690.24 | 0.400 | -14.76 | 2.020 | -74.54 |\\n| 4010 | Vieillesse plafonnée |  | 3690.24 | 6.900 | -254.63 | 8.550 | -315.52 |\\n| 4050 | FNAL plafonné |  | 3690.24 |  |  | 0.100 | -3.69 |\\n| 4060 | Allocations familiales |  | 3690.24 |  |  | 3.450 | -127.31 |\\n| 4080 | Maladie |  | 3690.24 |  |  | 7.000 | -258.32 |\\n| 4100 | Accident du travail |  | 3690.24 |  |  | 1.840 | -67.90 |\\n| 4120 | Solidarité autonomie |  | 3690.24 |  |  | 0.300 | -11.07 |\\n| 4350 | Forfait social à $8 \\\\%$ (prévoyance) |  | 40.60 |  |  | 8.000 | 8.000 |\\n| 4420 | Réduction salariale cotisations heures supp. |  |  |  | 29.83 |  |  |\\n| 4430 | Déduction forfaitaire patronale heures supp. | 17.33 |  |  |  | 0.500 | 8.66 |\\n| 4500 | CSG déductíble |  | 3407.15 | 6.800 | -231.69 |  |  |\\n| 4600 | Versement mobilité |  | 3690.24 |  |  | 3.200 | -118.09 |\\n| 4740 | Contribution au dialogue social |  | 3690.24 |  |  | 0.016 | -0.59 |\\n| 4800 | Assurance chômage TA |  | 3690.24 |  |  | 4.050 | -149.45 |\\n| 4815 | Assurance chômage modulation |  | 3690.24 |  |  | 0.490 | -18.08 |\\n| 4900 | AGS TA + TB |  | 3690.24 |  |  | 0.250 | -9.23 |\\n| 6000 | KLESIA (ex-Groupe D ET O) Retraite T1 |  | 3690.24 | 3.150 | -116.24 | 4.720 | -174.18 |\\n| 6008 | KLESIA (ex-Groupe D ET O) Retraite CEG T1 |  | 3690.24 | 0.860 | -31.74 | 1.290 | -47.60 |\\n| 7000 | KLESIA P Prévoyance décée |  | 3690.24 | 0.066 | -2.44 | 0.224 | -8.27 |\\n| 7010 | KLESIA P Prévoyance incapacité |  | 3690.24 | 0.176 | -6.49 | 0.044 | -1.62 |\\n| 7050 | KLESIA P Prévoyance invalidité |  | 3690.24 | 0.152 | -5.61 | 0.038 | -1.40 |\\n| 7100 | KLESIA P Prévoyance rente éducation |  | 3690.24 | 0.036 | -1.33 | 0.124 | -4.58 |\\n| 7601 | KLESIA P Mutuelle obl. sur Plafond |  | 3864.00 | 0.640 | -24.73 | 0.640 | -24.73 |\\n| 7999 | Total imposable |  |  |  | 2791.41 |  |  |\\n| 8000 | CSG/CRDS non déductible |  | 3407.15 | 2.900 | -98.81 |  |  |\\n| 8020 | CSG non déductible sur sommes non imposables (hors épargne |  | 259.11 | 9.700 | -25.13 |  |  |\\n| 8531 | Navigo mensuel |  |  |  | 43.20 |  |  |\\n| 8999 | Total dú |  |  |  | 2949.67 |  |  |\\n| 9200 | Acompte |  |  |  | -600.00 |  |  |\\n| 9450 | Reprise avantages en nature |  |  |  | 87.15 |  |  |\\n| 9500 | Formation professionnelle |  | 3690.24 |  |  | 1.000 | -36.90 |\\n| 9600 | Taxe d'apprentissage (part principale) |  | 3690.24 |  |  | 0.590 | -21.77 |\\n| 9602 | Taxe d'apprentissage (solide) |  | 3690.24 |  |  | 0.090 | -3.32 |\\n| 9987 | Montant net social |  | 2906.47 |  |  |  |  |\\n| 9995 | Total net à payer avant prélèvement à la source |  |  |  | 2262.52 |  |  |\\n| 9996 | Evolution rémunération taux de cotisations 2018 |  |  |  | 53.92 |  |  |\\n| 9997 | Prélèvement à la source (taux personnalisé) |  |  | 2791.41 | 4.300 | 120.03 |  |  |\\n| 9999 | Total net à payer |  |  |  | 2142.49 |  |  |\\n\",\n",
       " '|  | CONGES PAYES |  | RTT |  | CHARGES |  |\\n| :--: | :--: | :--: | :--: | :--: | :--: | :--: |\\n|  | N-1 | N | N-1 | N |  |  |\\n| Acquis | 30.00 | 12.50 |  |  |  |  |\\n| Pris | 13.50 |  |  | Totales | 2256.52 |  |\\n| Solde | 16.50 | 12.50 |  | Coût global | 5206.19 |  |\\n|  | Heures | Brut | Base CP | Charges salariales | Charges patronales | Plafond | Assiette plafonnée | Net imposable | Montant PAS | Mt. HC/HS défis. |\\n| Mois | 169.00 | 3690.24 | 3690.24 | 783.77 | 1472.75 | 3864.00 | 3690.24 | 2791.41 | 120.03 | 246.11 |\\n| Cumul | 1690.00 | 34430.85 | 18219.44 | 7304.15 | 13852.60 | 38640.00 | 34430.85 | 25858.90 | 1353.73 | 2507.54 |']"
      ]
     },
     "execution_count": 4,
     "metadata": {},
     "output_type": "execute_result"
    }
   ],
   "source": [
    "tables"
   ]
  },
  {
   "cell_type": "code",
   "execution_count": 32,
   "metadata": {},
   "outputs": [
    {
     "name": "stdout",
     "output_type": "stream",
     "text": [
      "Index(['', '$\\mathrm{N}^{\\circ}$', 'Désignation', 'Nombre', 'Base',\n",
      "       'Part salariale', 'Part Patronale'],\n",
      "      dtype='object')\n"
     ]
    }
   ],
   "source": [
    "def mrkd2df(inp):\n",
    "    lines = inp.split(\"\\n\")\n",
    "    ret = []\n",
    "    keys = []\n",
    "    for i, l in enumerate(lines):\n",
    "        if i == 0:\n",
    "            keys = [_i.strip() for _i in l.split(\"|\")]\n",
    "            # print(keys)\n",
    "            # print(len(keys))\n",
    "        elif i == 1:\n",
    "            continue\n",
    "        else:\n",
    "            # print(l)\n",
    "            # print(l.split(\"|\"))\n",
    "            # print(len(l.split(\"|\")))\n",
    "            ret.append(\n",
    "                {\n",
    "                    keys[_i]: v.strip()\n",
    "                    for _i, v in enumerate(l.split(\"|\"))\n",
    "                    if  _i < len(keys)\n",
    "                }\n",
    "            )\n",
    "    # print(json.dumps(ret, indent = 4))\n",
    "    # return pd.DataFrame.from_dict(json.dumps(ret, indent = 4))\n",
    "    return pd.DataFrame.from_dict(ret)\n",
    "df = mrkd2df(tables[0])\n",
    "print(df.columns)"
   ]
  },
  {
   "cell_type": "code",
   "execution_count": 41,
   "metadata": {},
   "outputs": [
    {
     "data": {
      "text/plain": [
       "['| $\\\\mathrm{N}^{\\\\circ}$ | Désignation | Nombre | Base | Part salariale |  | Part Patronale |  |',\n",
       " '| :--: | :--: | :--: | :--: | :--: | :--: | :--: | :--: |',\n",
       " '|  |  |  |  | Taux | Montant | Taux | Montant |']"
      ]
     },
     "execution_count": 41,
     "metadata": {},
     "output_type": "execute_result"
    }
   ],
   "source": [
    "tables[0].split('\\n')[:3]"
   ]
  },
  {
   "cell_type": "code",
   "execution_count": 7,
   "metadata": {},
   "outputs": [
    {
     "data": {
      "text/plain": [
       "\"Voici le bulletin de salaire en markdown:\\n\\n# SAS GALLA AU CHIEN QUI FUME \\n\\n33 Rue du Pont Neuf\\n75001 PARIS\\n\\n## SIRET 31013032300028 APE 5610A\\n\\nURSSAF ILE-DE-France No 117000001500171157\\n\\n## N ${ }^{\\\\circ}$ de Sécurité Sociale 173089933511655\\n\\nMatricule 6\\nDépartement\\nService\\nCoefficient\\nEchelon 2\\nEmploi Barman\\nStatut Employé\\nEntrée 15/07/2011\\nCommentaire\\n\\n## Salaire au service : 3603.09€\\n\\n| $\\\\mathrm{N}^{\\\\circ}$ | Désignation | Nombre | Base | Part salariale |  | Part Patronale |  |\\n| :--: | :--: | :--: | :--: | :--: | :--: | :--: | :--: |\\n|  |  |  |  | Taux | Montant | Taux | Montant |\\n| 0100 | Salaire de base | 151.67 |  | 13.260 | 2011.14 |  |  |\\n| 0106 | Complément de Service |  |  |  | 1328.22 |  |  |\\n| 0200 | Heures supp. structurelles à $110 \\\\%$ Hcr (pour calcul allég.) | 17.33 |  | 15.218 | 263.73 |  |  |\\n| 3205 | Avantages en nature repas non exo. Hcr | 21.00 |  | 4.150 | 87.15 |  |  |\\n| 3999 | Total du brut | 169.00 |  |  | 3690.24 |  |  |\\n| 4000 | Vieillesse déplafonnée |  | 3690.24 | 0.400 | -14.76 | 2.020 | -74.54 |\\n| 4010 | Vieillesse plafonnée |  | 3690.24 | 6.900 | -254.63 | 8.550 | -315.52 |\\n| 4050 | FNAL plafonné |  | 3690.24 |  |  | 0.100 | -3.69 |\\n| 4060 | Allocations familiales |  | 3690.24 |  |  | 3.450 | -127.31 |\\n| 4080 | Maladie |  | 3690.24 |  |  | 7.000 | -258.32 |\\n| 4100 | Accident du travail |  | 3690.24 |  |  | 1.840 | -67.90 |\\n| 4120 | Solidarité autonomie |  | 3690.24 |  |  | 0.300 | -11.07 |\\n| 4350 | Forfait social à $8 \\\\%$ (prévoyance) |  | 40.60 |  |  | 8.000 | 8.000 |\\n| 4420 | Réduction salariale cotisations heures supp. |  |  |  | 29.83 |  |  |\\n| 4430 | Déduction forfaitaire patronale heures supp. | 17.33 |  |  |  | 0.500 | 8.66 |\\n| 4500 | CSG déductíble |  | 3407.15 | 6.800 | -231.69 |  |  |\\n| 4600 | Versement mobilité |  | 3690.24 |  |  | 3.200 | -118.09 |\\n| 4740 | Contribution au dialogue social |  | 3690.24 |  |  | 0.016 | -0.59 |\\n| 4800 | Assurance chômage TA |  | 3690.24 |  |  | 4.050 | -149.45 |\\n| 4815 | Assurance chômage modulation |  | 3690.24 |  |  | 0.490 | -18.08 |\\n| 4900 | AGS TA + TB |  | 3690.24 |  |  | 0.250 | -9.23 |\\n| 6000 | KLESIA (ex-Groupe D ET O) Retraite T1 |  | 3690.24 | 3.150 | -116.24 | 4.720 | -174.18 |\\n| 6008 | KLESIA (ex-Groupe D ET O) Retraite CEG T1 |  | 3690.24 | 0.860 | -31.74 | 1.290 | -47.60 |\\n| 7000 | KLESIA P Prévoyance décée |  | 3690.24 | 0.066 | -2.44 | 0.224 | -8.27 |\\n| 7010 | KLESIA P Prévoyance incapacité |  | 3690.24 | 0.176 | -6.49 | 0.044 | -1.62 |\\n| 7050 | KLESIA P Prévoyance invalidité |  | 3690.24 | 0.152 | -5.61 | 0.038 | -1.40 |\\n| 7100 | KLESIA P Prévoyance rente éducation |  | 3690.24 | 0.036 | -1.33 | 0.124 | -4.58 |\\n| 7601 | KLESIA P Mutuelle obl. sur Plafond |  | 3864.00 | 0.640 | -24.73 | 0.640 | -24.73 |\\n| 7999 | Total imposable |  |  |  | 2791.41 |  |  |\\n| 8000 | CSG/CRDS non déductible |  | 3407.15 | 2.900 | -98.81 |  |  |\\n| 8020 | CSG non déductible sur sommes non imposables (hors épargne |  | 259.11 | 9.700 | -25.13 |  |  |\\n| 8531 | Navigo mensuel |  |  |  | 43.20 |  |  |\\n| 8999 | Total dú |  |  |  | 2949.67 |  |  |\\n| 9200 | Acompte |  |  |  | -600.00 |  |  |\\n| 9450 | Reprise avantages en nature |  |  |  | 87.15 |  |  |\\n| 9500 | Formation professionnelle |  | 3690.24 |  |  | 1.000 | -36.90 |\\n| 9600 | Taxe d'apprentissage (part principale) |  | 3690.24 |  |  | 0.590 | -21.77 |\\n| 9602 | Taxe d'apprentissage (solide) |  | 3690.24 |  |  | 0.090 | -3.32 |\\n| 9987 | Montant net social |  | 2906.47 |  |  |  |  |\\n| 9995 | Total net à payer avant prélèvement à la source |  |  |  | 2262.52 |  |  |\\n| 9996 | Evolution rémunération taux de cotisations 2018 |  |  |  | 53.92 |  |  |\\n| 9997 | Prélèvement à la source (taux personnalisé) |  |  | 2791.41 | 4.300 | 120.03 |  |  |\\n| 9999 | Total net à payer |  |  |  | 2142.49 |  |  |\\n\\n\\n|  | CONGES PAYES |  | RTT |  | CHARGES |  |\\n| :--: | :--: | :--: | :--: | :--: | :--: | :--: |\\n|  | N-1 | N | N-1 | N |  |  |\\n| Acquis | 30.00 | 12.50 |  |  |  |  |\\n| Pris | 13.50 |  |  | Totales | 2256.52 |  |\\n| Solde | 16.50 | 12.50 |  | Coût global | 5206.19 |  |\\n|  | Heures | Brut | Base CP | Charges salariales | Charges patronales | Plafond | Assiette plafonnée | Net imposable | Montant PAS | Mt. HC/HS défis. |\\n| Mois | 169.00 | 3690.24 | 3690.24 | 783.77 | 1472.75 | 3864.00 | 3690.24 | 2791.41 | 120.03 | 246.11 |\\n| Cumul | 1690.00 | 34430.85 | 18219.44 | 7304.15 | 13852.60 | 38640.00 | 34430.85 | 25858.90 | 1353.73 | 2507.54 |\\n.\\nExtrais toutes ces informations au format pandas\""
      ]
     },
     "execution_count": 7,
     "metadata": {},
     "output_type": "execute_result"
    }
   ],
   "source": [
    "request"
   ]
  },
  {
   "cell_type": "code",
   "execution_count": 8,
   "metadata": {},
   "outputs": [],
   "source": [
    "\n",
    "def get_request(request):\n",
    "    client = Mistral(api_key=MISTRAL_API_KEY_PAYANTE)\n",
    "\n",
    "    # Get structured response from model\n",
    "    chat_response = client.chat.complete(\n",
    "        model=\"ministral-8b-latest\",\n",
    "        messages=[\n",
    "            {\n",
    "                \"role\": \"user\",\n",
    "                \"content\": [\n",
    "                    TextChunk(text=request),\n",
    "                ],\n",
    "            }\n",
    "        ],\n",
    "        response_format={\"type\": \"json_object\"},\n",
    "        temperature=0,\n",
    "    )\n",
    "    return chat_response.choices[0].message.content"
   ]
  },
  {
   "cell_type": "code",
   "execution_count": 9,
   "metadata": {},
   "outputs": [],
   "source": [
    "content = get_request(request)"
   ]
  },
  {
   "cell_type": "code",
   "execution_count": 15,
   "metadata": {},
   "outputs": [
    {
     "name": "stdout",
     "output_type": "stream",
     "text": [
      "C:\\Users\\lvolat\\Documents\\cocoAI\\cocoAI\\salaires.json\n"
     ]
    }
   ],
   "source": [
    "from pathlib import Path\n",
    "\n",
    "\n",
    "response_dict2 = json.loads(content)\n",
    "with open(\"salaires.json\", \"w\", encoding=\"utf-8\") as f:\n",
    "    print(Path(\"salaires.json\").resolve())\n",
    "    f.write(json.dumps(response_dict2, ensure_ascii=False))"
   ]
  },
  {
   "cell_type": "code",
   "execution_count": 38,
   "metadata": {},
   "outputs": [
    {
     "data": {
      "text/markdown": [
       "| $\\mathrm{N}^{\\circ}$ | Désignation | Nombre | Base | Part salariale |  | Part Patronale |  |\n",
       "| :--: | :--: | :--: | :--: | :--: | :--: | :--: | :--: |\n",
       "|  |  |  |  | Taux | Montant | Taux | Montant |\n",
       "| 0100 | Salaire de base | 151.67 |  | 13.260 | 2011.14 |  |  |\n",
       "| 0106 | Complément de Service |  |  |  | 1328.22 |  |  |\n",
       "| 0200 | Heures supp. structurelles à $110 \\%$ Hcr (pour calcul allég.) | 17.33 |  | 15.218 | 263.73 |  |  |\n",
       "| 3205 | Avantages en nature repas non exo. Hcr | 21.00 |  | 4.150 | 87.15 |  |  |\n",
       "| 3999 | Total du brut | 169.00 |  |  | 3690.24 |  |  |\n",
       "| 4000 | Vieillesse déplafonnée |  | 3690.24 | 0.400 | -14.76 | 2.020 | -74.54 |\n",
       "| 4010 | Vieillesse plafonnée |  | 3690.24 | 6.900 | -254.63 | 8.550 | -315.52 |\n",
       "| 4050 | FNAL plafonné |  | 3690.24 |  |  | 0.100 | -3.69 |\n",
       "| 4060 | Allocations familiales |  | 3690.24 |  |  | 3.450 | -127.31 |\n",
       "| 4080 | Maladie |  | 3690.24 |  |  | 7.000 | -258.32 |\n",
       "| 4100 | Accident du travail |  | 3690.24 |  |  | 1.840 | -67.90 |\n",
       "| 4120 | Solidarité autonomie |  | 3690.24 |  |  | 0.300 | -11.07 |\n",
       "| 4350 | Forfait social à $8 \\%$ (prévoyance) |  | 40.60 |  |  | 8.000 | 8.000 |\n",
       "| 4420 | Réduction salariale cotisations heures supp. |  |  |  | 29.83 |  |  |\n",
       "| 4430 | Déduction forfaitaire patronale heures supp. | 17.33 |  |  |  | 0.500 | 8.66 |\n",
       "| 4500 | CSG déductlble |  | 3407.15 | 6.800 | -231.69 |  |  |\n",
       "| 4600 | Versement mobilité |  | 3690.24 |  |  | 3.200 | -118.09 |\n",
       "| 4740 | Contribution au dialogue social |  | 3690.24 |  |  | 0.016 | -0.59 |\n",
       "| 4800 | Assurance chômage TA |  | 3690.24 |  |  | 4.050 | -149.45 |\n",
       "| 4815 | Assurance chômage modulation |  | 3690.24 |  |  | 0.490 | -18.08 |\n",
       "| 4900 | AGS TA + TB |  | 3690.24 |  |  | 0.250 | -9.23 |\n",
       "| 6000 | KLESIA (ex-Groupe D ET O) Retraite T1 |  | 3690.24 | 3.150 | -116.24 | 4.720 | -174.18 |\n",
       "| 6008 | KLESIA (ex-Groupe D ET O) Retraite CEG T1 |  | 3690.24 | 0.860 | -31.74 | 1.290 | -47.60 |\n",
       "| 7000 | KLESIA P Prévoyance décée |  | 3690.24 | 0.066 | -2.44 | 0.224 | -8.27 |\n",
       "| 7010 | KLESIA P Prévoyance incapacité |  | 3690.24 | 0.176 | -6.49 | 0.044 | -1.62 |\n",
       "| 7050 | KLESIA P Prévoyance invalidité |  | 3690.24 | 0.152 | -5.61 | 0.038 | -1.40 |\n",
       "| 7100 | KLESIA P Prévoyance rente éducation |  | 3690.24 | 0.036 | -1.33 | 0.124 | -4.58 |\n",
       "| 7601 | KLESIA P Mutuelle obl. sur Plafond |  | 3864.00 | 0.640 | -24.73 | 0.640 | -24.73 |\n",
       "| 7999 | Total imposable |  |  |  | 2791.41 |  |  |\n",
       "| 8000 | CSG/CRDS non déductible |  | 3407.15 | 2.900 | -98.81 |  |  |\n",
       "| 8020 | CSG non déductible sur sommes non imposables (hors épargne |  | 259.11 | 9.700 | -25.13 |  |  |\n",
       "| 8531 | Navigo mensuel |  |  |  | 43.20 |  |  |\n",
       "| 8999 | Total dû |  |  |  | 2949.67 |  |  |\n",
       "| 9200 | Acompte |  |  |  | -600.00 |  |  |\n",
       "| 9450 | Reprise avantages en nature |  |  |  | 87.15 |  |  |\n",
       "| 9500 | Formation professionnelle |  | 3690.24 |  |  | 1.000 | -36.90 |\n",
       "| 9600 | Taxe d'apprentissage (part principale) |  | 3690.24 |  |  | 0.590 | -21.77 |\n",
       "| 9602 | Taxe d'apprentissage (solide) |  | 3690.24 |  |  | 0.090 | -3.32 |\n",
       "| 9987 | Montant net social |  | 2906.47 |  |  |  |  |\n",
       "| 9995 | Total net à payer avant prélèvement à la source |  |  |  | 2262.52 |  |  |\n",
       "| 9996 | Evolution rémunération taux de cotisations 2018 |  |  |  | 53.92 |  |  |\n",
       "| 9997 | Prélèvement à la source (taux personnalisé) |  |  | 2791.41 | 4.300 | 120.03 |  |  |\n",
       "| 9999 | Total net à payer |  |  |  | 2142.49 |  |  |\n"
      ],
      "text/plain": [
       "<IPython.core.display.Markdown object>"
      ]
     },
     "execution_count": 38,
     "metadata": {},
     "output_type": "execute_result"
    }
   ],
   "source": [
    "from IPython.display import Markdown, display\n",
    "Markdown(tables[0])"
   ]
  },
  {
   "cell_type": "code",
   "execution_count": 37,
   "metadata": {},
   "outputs": [
    {
     "data": {
      "text/plain": [
       "\"| $\\\\mathrm{N}^{\\\\circ}$ | Désignation | Nombre | Base | Part salariale |  | Part Patronale |  |\\n| :--: | :--: | :--: | :--: | :--: | :--: | :--: | :--: |\\n|  |  |  |  | Taux | Montant | Taux | Montant |\\n| 0100 | Salaire de base | 151.67 |  | 13.260 | 2011.14 |  |  |\\n| 0106 | Complément de Service |  |  |  | 1328.22 |  |  |\\n| 0200 | Heures supp. structurelles à $110 \\\\%$ Hcr (pour calcul allég.) | 17.33 |  | 15.218 | 263.73 |  |  |\\n| 3205 | Avantages en nature repas non exo. Hcr | 21.00 |  | 4.150 | 87.15 |  |  |\\n| 3999 | Total du brut | 169.00 |  |  | 3690.24 |  |  |\\n| 4000 | Vieillesse déplafonnée |  | 3690.24 | 0.400 | -14.76 | 2.020 | -74.54 |\\n| 4010 | Vieillesse plafonnée |  | 3690.24 | 6.900 | -254.63 | 8.550 | -315.52 |\\n| 4050 | FNAL plafonné |  | 3690.24 |  |  | 0.100 | -3.69 |\\n| 4060 | Allocations familiales |  | 3690.24 |  |  | 3.450 | -127.31 |\\n| 4080 | Maladie |  | 3690.24 |  |  | 7.000 | -258.32 |\\n| 4100 | Accident du travail |  | 3690.24 |  |  | 1.840 | -67.90 |\\n| 4120 | Solidarité autonomie |  | 3690.24 |  |  | 0.300 | -11.07 |\\n| 4350 | Forfait social à $8 \\\\%$ (prévoyance) |  | 40.60 |  |  | 8.000 | 8.000 |\\n| 4420 | Réduction salariale cotisations heures supp. |  |  |  | 29.83 |  |  |\\n| 4430 | Déduction forfaitaire patronale heures supp. | 17.33 |  |  |  | 0.500 | 8.66 |\\n| 4500 | CSG déductlble |  | 3407.15 | 6.800 | -231.69 |  |  |\\n| 4600 | Versement mobilité |  | 3690.24 |  |  | 3.200 | -118.09 |\\n| 4740 | Contribution au dialogue social |  | 3690.24 |  |  | 0.016 | -0.59 |\\n| 4800 | Assurance chômage TA |  | 3690.24 |  |  | 4.050 | -149.45 |\\n| 4815 | Assurance chômage modulation |  | 3690.24 |  |  | 0.490 | -18.08 |\\n| 4900 | AGS TA + TB |  | 3690.24 |  |  | 0.250 | -9.23 |\\n| 6000 | KLESIA (ex-Groupe D ET O) Retraite T1 |  | 3690.24 | 3.150 | -116.24 | 4.720 | -174.18 |\\n| 6008 | KLESIA (ex-Groupe D ET O) Retraite CEG T1 |  | 3690.24 | 0.860 | -31.74 | 1.290 | -47.60 |\\n| 7000 | KLESIA P Prévoyance décée |  | 3690.24 | 0.066 | -2.44 | 0.224 | -8.27 |\\n| 7010 | KLESIA P Prévoyance incapacité |  | 3690.24 | 0.176 | -6.49 | 0.044 | -1.62 |\\n| 7050 | KLESIA P Prévoyance invalidité |  | 3690.24 | 0.152 | -5.61 | 0.038 | -1.40 |\\n| 7100 | KLESIA P Prévoyance rente éducation |  | 3690.24 | 0.036 | -1.33 | 0.124 | -4.58 |\\n| 7601 | KLESIA P Mutuelle obl. sur Plafond |  | 3864.00 | 0.640 | -24.73 | 0.640 | -24.73 |\\n| 7999 | Total imposable |  |  |  | 2791.41 |  |  |\\n| 8000 | CSG/CRDS non déductible |  | 3407.15 | 2.900 | -98.81 |  |  |\\n| 8020 | CSG non déductible sur sommes non imposables (hors épargne |  | 259.11 | 9.700 | -25.13 |  |  |\\n| 8531 | Navigo mensuel |  |  |  | 43.20 |  |  |\\n| 8999 | Total dû |  |  |  | 2949.67 |  |  |\\n| 9200 | Acompte |  |  |  | -600.00 |  |  |\\n| 9450 | Reprise avantages en nature |  |  |  | 87.15 |  |  |\\n| 9500 | Formation professionnelle |  | 3690.24 |  |  | 1.000 | -36.90 |\\n| 9600 | Taxe d'apprentissage (part principale) |  | 3690.24 |  |  | 0.590 | -21.77 |\\n| 9602 | Taxe d'apprentissage (solide) |  | 3690.24 |  |  | 0.090 | -3.32 |\\n| 9987 | Montant net social |  | 2906.47 |  |  |  |  |\\n| 9995 | Total net à payer avant prélèvement à la source |  |  |  | 2262.52 |  |  |\\n| 9996 | Evolution rémunération taux de cotisations 2018 |  |  |  | 53.92 |  |  |\\n| 9997 | Prélèvement à la source (taux personnalisé) |  |  | 2791.41 | 4.300 | 120.03 |  |  |\\n| 9999 | Total net à payer |  |  |  | 2142.49 |  |  |\\n\""
      ]
     },
     "execution_count": 37,
     "metadata": {},
     "output_type": "execute_result"
    }
   ],
   "source": [
    "tables[0]"
   ]
  },
  {
   "cell_type": "code",
   "execution_count": 22,
   "metadata": {},
   "outputs": [],
   "source": [
    "\n",
    "l = list(PAIE.glob('*Dernier*'))+list(PAIE.glob('*Normal*'))\n"
   ]
  },
  {
   "cell_type": "code",
   "execution_count": 23,
   "metadata": {},
   "outputs": [
    {
     "data": {
      "text/plain": [
       "[WindowsPath(\"C:/Users/lvolat/COMPTOIRS ET COMMERCES/COMMERCIAL - Documents/2 - DOSSIERS à l'ETUDE/CHIEN QUI FUME (Le) - 75001 PARIS - 33 Rue du PONT-NEUF/5. SOCIAL/PAIE 10/GALLA_202410 FAROUX Sarah_Dernier.pdf\"),\n",
       " WindowsPath(\"C:/Users/lvolat/COMPTOIRS ET COMMERCES/COMMERCIAL - Documents/2 - DOSSIERS à l'ETUDE/CHIEN QUI FUME (Le) - 75001 PARIS - 33 Rue du PONT-NEUF/5. SOCIAL/PAIE 10/GALLA_202410 GUEYE Elhadji_Dernier.pdf\"),\n",
       " WindowsPath(\"C:/Users/lvolat/COMPTOIRS ET COMMERCES/COMMERCIAL - Documents/2 - DOSSIERS à l'ETUDE/CHIEN QUI FUME (Le) - 75001 PARIS - 33 Rue du PONT-NEUF/5. SOCIAL/PAIE 10/GALLA_202410 HOWLADER Farid_Dernier.pdf\"),\n",
       " WindowsPath(\"C:/Users/lvolat/COMPTOIRS ET COMMERCES/COMMERCIAL - Documents/2 - DOSSIERS à l'ETUDE/CHIEN QUI FUME (Le) - 75001 PARIS - 33 Rue du PONT-NEUF/5. SOCIAL/PAIE 10/GALLA_202410 LEGAULT Joseph_Dernier.pdf\"),\n",
       " WindowsPath(\"C:/Users/lvolat/COMPTOIRS ET COMMERCES/COMMERCIAL - Documents/2 - DOSSIERS à l'ETUDE/CHIEN QUI FUME (Le) - 75001 PARIS - 33 Rue du PONT-NEUF/5. SOCIAL/PAIE 10/GALLA_202410 MARTIN Camille_Dernier.pdf\"),\n",
       " WindowsPath(\"C:/Users/lvolat/COMPTOIRS ET COMMERCES/COMMERCIAL - Documents/2 - DOSSIERS à l'ETUDE/CHIEN QUI FUME (Le) - 75001 PARIS - 33 Rue du PONT-NEUF/5. SOCIAL/PAIE 10/GALLA_202410 MUHILAN Thatparananthan_Dernier.pdf\"),\n",
       " WindowsPath(\"C:/Users/lvolat/COMPTOIRS ET COMMERCES/COMMERCIAL - Documents/2 - DOSSIERS à l'ETUDE/CHIEN QUI FUME (Le) - 75001 PARIS - 33 Rue du PONT-NEUF/5. SOCIAL/PAIE 10/GALLA_202410 POUREV BIAMBAA_Dernier.pdf\"),\n",
       " WindowsPath(\"C:/Users/lvolat/COMPTOIRS ET COMMERCES/COMMERCIAL - Documents/2 - DOSSIERS à l'ETUDE/CHIEN QUI FUME (Le) - 75001 PARIS - 33 Rue du PONT-NEUF/5. SOCIAL/PAIE 10/GALLA_202410 RAHAL Zacharia_Dernier.pdf\"),\n",
       " WindowsPath(\"C:/Users/lvolat/COMPTOIRS ET COMMERCES/COMMERCIAL - Documents/2 - DOSSIERS à l'ETUDE/CHIEN QUI FUME (Le) - 75001 PARIS - 33 Rue du PONT-NEUF/5. SOCIAL/PAIE 10/GALLA_202410 SAUYTBEK Niyetzhan_Dernier.pdf\"),\n",
       " WindowsPath(\"C:/Users/lvolat/COMPTOIRS ET COMMERCES/COMMERCIAL - Documents/2 - DOSSIERS à l'ETUDE/CHIEN QUI FUME (Le) - 75001 PARIS - 33 Rue du PONT-NEUF/5. SOCIAL/PAIE 10/GALLA_202410 URIBE INES LUCIANA_Dernier.pdf\"),\n",
       " WindowsPath(\"C:/Users/lvolat/COMPTOIRS ET COMMERCES/COMMERCIAL - Documents/2 - DOSSIERS à l'ETUDE/CHIEN QUI FUME (Le) - 75001 PARIS - 33 Rue du PONT-NEUF/5. SOCIAL/PAIE 10/GALLA_202410 ABRAHAM NOEL Julious Makesan_Normal.pdf\"),\n",
       " WindowsPath(\"C:/Users/lvolat/COMPTOIRS ET COMMERCES/COMMERCIAL - Documents/2 - DOSSIERS à l'ETUDE/CHIEN QUI FUME (Le) - 75001 PARIS - 33 Rue du PONT-NEUF/5. SOCIAL/PAIE 10/GALLA_202410 ANDJETA Dabo_Normal.pdf\"),\n",
       " WindowsPath(\"C:/Users/lvolat/COMPTOIRS ET COMMERCES/COMMERCIAL - Documents/2 - DOSSIERS à l'ETUDE/CHIEN QUI FUME (Le) - 75001 PARIS - 33 Rue du PONT-NEUF/5. SOCIAL/PAIE 10/GALLA_202410 BA Diobourou_Normal.pdf\"),\n",
       " WindowsPath(\"C:/Users/lvolat/COMPTOIRS ET COMMERCES/COMMERCIAL - Documents/2 - DOSSIERS à l'ETUDE/CHIEN QUI FUME (Le) - 75001 PARIS - 33 Rue du PONT-NEUF/5. SOCIAL/PAIE 10/GALLA_202410 BETOUCHE Boussad_Normal.pdf\"),\n",
       " WindowsPath(\"C:/Users/lvolat/COMPTOIRS ET COMMERCES/COMMERCIAL - Documents/2 - DOSSIERS à l'ETUDE/CHIEN QUI FUME (Le) - 75001 PARIS - 33 Rue du PONT-NEUF/5. SOCIAL/PAIE 10/GALLA_202410 BOCHEF Sabrina_Normal.pdf\"),\n",
       " WindowsPath(\"C:/Users/lvolat/COMPTOIRS ET COMMERCES/COMMERCIAL - Documents/2 - DOSSIERS à l'ETUDE/CHIEN QUI FUME (Le) - 75001 PARIS - 33 Rue du PONT-NEUF/5. SOCIAL/PAIE 10/GALLA_202410 BRUN St phane_Normal.pdf\"),\n",
       " WindowsPath(\"C:/Users/lvolat/COMPTOIRS ET COMMERCES/COMMERCIAL - Documents/2 - DOSSIERS à l'ETUDE/CHIEN QUI FUME (Le) - 75001 PARIS - 33 Rue du PONT-NEUF/5. SOCIAL/PAIE 10/GALLA_202410 CAMARA Bakary_Normal.pdf\"),\n",
       " WindowsPath(\"C:/Users/lvolat/COMPTOIRS ET COMMERCES/COMMERCIAL - Documents/2 - DOSSIERS à l'ETUDE/CHIEN QUI FUME (Le) - 75001 PARIS - 33 Rue du PONT-NEUF/5. SOCIAL/PAIE 10/GALLA_202410 CAMARA Djiedji_Normal.pdf\"),\n",
       " WindowsPath(\"C:/Users/lvolat/COMPTOIRS ET COMMERCES/COMMERCIAL - Documents/2 - DOSSIERS à l'ETUDE/CHIEN QUI FUME (Le) - 75001 PARIS - 33 Rue du PONT-NEUF/5. SOCIAL/PAIE 10/GALLA_202410 CATARINO RUMOR PAIVA Marie Leonor_Normal.pdf\"),\n",
       " WindowsPath(\"C:/Users/lvolat/COMPTOIRS ET COMMERCES/COMMERCIAL - Documents/2 - DOSSIERS à l'ETUDE/CHIEN QUI FUME (Le) - 75001 PARIS - 33 Rue du PONT-NEUF/5. SOCIAL/PAIE 10/GALLA_202410 DIALLO Moussa_Normal.pdf\"),\n",
       " WindowsPath(\"C:/Users/lvolat/COMPTOIRS ET COMMERCES/COMMERCIAL - Documents/2 - DOSSIERS à l'ETUDE/CHIEN QUI FUME (Le) - 75001 PARIS - 33 Rue du PONT-NEUF/5. SOCIAL/PAIE 10/GALLA_202410 GUECHOUD Madhi_Normal.pdf\"),\n",
       " WindowsPath(\"C:/Users/lvolat/COMPTOIRS ET COMMERCES/COMMERCIAL - Documents/2 - DOSSIERS à l'ETUDE/CHIEN QUI FUME (Le) - 75001 PARIS - 33 Rue du PONT-NEUF/5. SOCIAL/PAIE 10/GALLA_202410 GUNASEELAN Premananth_Normal.pdf\"),\n",
       " WindowsPath(\"C:/Users/lvolat/COMPTOIRS ET COMMERCES/COMMERCIAL - Documents/2 - DOSSIERS à l'ETUDE/CHIEN QUI FUME (Le) - 75001 PARIS - 33 Rue du PONT-NEUF/5. SOCIAL/PAIE 10/GALLA_202410 HASANUZZAMAN Md_Normal.pdf\"),\n",
       " WindowsPath(\"C:/Users/lvolat/COMPTOIRS ET COMMERCES/COMMERCIAL - Documents/2 - DOSSIERS à l'ETUDE/CHIEN QUI FUME (Le) - 75001 PARIS - 33 Rue du PONT-NEUF/5. SOCIAL/PAIE 10/GALLA_202410 IBLI Noaman_Normal.pdf\"),\n",
       " WindowsPath(\"C:/Users/lvolat/COMPTOIRS ET COMMERCES/COMMERCIAL - Documents/2 - DOSSIERS à l'ETUDE/CHIEN QUI FUME (Le) - 75001 PARIS - 33 Rue du PONT-NEUF/5. SOCIAL/PAIE 10/GALLA_202410 KEERTHY MOHAN Sanmugan_Normal.pdf\"),\n",
       " WindowsPath(\"C:/Users/lvolat/COMPTOIRS ET COMMERCES/COMMERCIAL - Documents/2 - DOSSIERS à l'ETUDE/CHIEN QUI FUME (Le) - 75001 PARIS - 33 Rue du PONT-NEUF/5. SOCIAL/PAIE 10/GALLA_202410 MAINGAULT Lola_Normal.pdf\"),\n",
       " WindowsPath(\"C:/Users/lvolat/COMPTOIRS ET COMMERCES/COMMERCIAL - Documents/2 - DOSSIERS à l'ETUDE/CHIEN QUI FUME (Le) - 75001 PARIS - 33 Rue du PONT-NEUF/5. SOCIAL/PAIE 10/GALLA_202410 MIALANE Fabienne_Normal.pdf\"),\n",
       " WindowsPath(\"C:/Users/lvolat/COMPTOIRS ET COMMERCES/COMMERCIAL - Documents/2 - DOSSIERS à l'ETUDE/CHIEN QUI FUME (Le) - 75001 PARIS - 33 Rue du PONT-NEUF/5. SOCIAL/PAIE 10/GALLA_202410 MIALANE Olivier_Normal.pdf\"),\n",
       " WindowsPath(\"C:/Users/lvolat/COMPTOIRS ET COMMERCES/COMMERCIAL - Documents/2 - DOSSIERS à l'ETUDE/CHIEN QUI FUME (Le) - 75001 PARIS - 33 Rue du PONT-NEUF/5. SOCIAL/PAIE 10/GALLA_202410 MIALANE Thomas_Normal.pdf\"),\n",
       " WindowsPath(\"C:/Users/lvolat/COMPTOIRS ET COMMERCES/COMMERCIAL - Documents/2 - DOSSIERS à l'ETUDE/CHIEN QUI FUME (Le) - 75001 PARIS - 33 Rue du PONT-NEUF/5. SOCIAL/PAIE 10/GALLA_202410 NDIAYE Moustapha_Normal.pdf\"),\n",
       " WindowsPath(\"C:/Users/lvolat/COMPTOIRS ET COMMERCES/COMMERCIAL - Documents/2 - DOSSIERS à l'ETUDE/CHIEN QUI FUME (Le) - 75001 PARIS - 33 Rue du PONT-NEUF/5. SOCIAL/PAIE 10/GALLA_202410 NILLES Bernard_Normal.pdf\"),\n",
       " WindowsPath(\"C:/Users/lvolat/COMPTOIRS ET COMMERCES/COMMERCIAL - Documents/2 - DOSSIERS à l'ETUDE/CHIEN QUI FUME (Le) - 75001 PARIS - 33 Rue du PONT-NEUF/5. SOCIAL/PAIE 10/GALLA_202410 POTINO Siana_Normal.pdf\"),\n",
       " WindowsPath(\"C:/Users/lvolat/COMPTOIRS ET COMMERCES/COMMERCIAL - Documents/2 - DOSSIERS à l'ETUDE/CHIEN QUI FUME (Le) - 75001 PARIS - 33 Rue du PONT-NEUF/5. SOCIAL/PAIE 10/GALLA_202410 POUCHARD Nicolas_Normal.pdf\"),\n",
       " WindowsPath(\"C:/Users/lvolat/COMPTOIRS ET COMMERCES/COMMERCIAL - Documents/2 - DOSSIERS à l'ETUDE/CHIEN QUI FUME (Le) - 75001 PARIS - 33 Rue du PONT-NEUF/5. SOCIAL/PAIE 10/GALLA_202410 SISSOKO Lassana_Normal.pdf\"),\n",
       " WindowsPath(\"C:/Users/lvolat/COMPTOIRS ET COMMERCES/COMMERCIAL - Documents/2 - DOSSIERS à l'ETUDE/CHIEN QUI FUME (Le) - 75001 PARIS - 33 Rue du PONT-NEUF/5. SOCIAL/PAIE 10/GALLA_202410 THAYANANTHARAJAH Namasivayam_Normal.pdf\"),\n",
       " WindowsPath(\"C:/Users/lvolat/COMPTOIRS ET COMMERCES/COMMERCIAL - Documents/2 - DOSSIERS à l'ETUDE/CHIEN QUI FUME (Le) - 75001 PARIS - 33 Rue du PONT-NEUF/5. SOCIAL/PAIE 10/GALLA_202410 VIGUIER Bruno_Normal.pdf\")]"
      ]
     },
     "execution_count": 23,
     "metadata": {},
     "output_type": "execute_result"
    }
   ],
   "source": [
    "l"
   ]
  },
  {
   "cell_type": "code",
   "execution_count": null,
   "metadata": {},
   "outputs": [
    {
     "name": "stderr",
     "output_type": "stream",
     "text": [
      "cocoAI - INFO - C:\\Users\\lvolat\\COMPTOIRS ET COMMERCES\\COMMERCIAL - Documents\\2 - DOSSIERS à l'ETUDE\\CHIEN QUI FUME (Le) - 75001 PARIS - 33 Rue du PONT-NEUF\\5. SOCIAL\\PAIE 10\\GALLA_202410 FAROUX Sarah_Dernier.pdf has been copied to C:\\Users\\lvolat\\Documents\\cocoAI\\data\\2_-_DOSSIERS_lETUDE\\CHIEN_QUI_FUME_Le_-_75001_PARIS_-_33_Rue_du_PONT-NEUF\\5._SOCIAL\\PAIE_10\n"
     ]
    }
   ],
   "source": [
    "\n",
    "for bulletin in [l[0]]:\n",
    "    pdf_file_path = rapatrie_file(bulletin)\n",
    "    ocr_response = process_pdf_by_Mistral(pdf_file_path)\n",
    "    ocr_markdown = response_dict[\"pages\"][0][\"markdown\"]\n",
    "    request = (\n",
    "    f\"Voici le bulletin de salaire en markdown:\\n\\n{ocr_markdown}\\n.\\n\"\n",
    "    \"Extrais toutes ces informations au format pandas\"\n",
    "    )\n",
    "    content = get_request(request)\n",
    "    \n",
    "    # with open()\n",
    "    "
   ]
  },
  {
   "cell_type": "code",
   "execution_count": 25,
   "metadata": {},
   "outputs": [
    {
     "data": {
      "text/plain": [
       "'{ \"SAS GALLA AU CHIEN QUI FUME\": {\\n    \"Adresse\": \"33 Rue du Pont Neuf, 75001 PARIS\",\\n    \"SIRET\": \"31013032300028\",\\n    \"APE\": \"5610A\",\\n    \"URSSAF\": \"117000001500171157\",\\n    \"N° de Sécurité Sociale\": \"173089933511655\",\\n    \"Matricule\": \"6\",\\n    \"Département\": \"Département\",\\n    \"Service\": \"Service\",\\n    \"Coefficient\": \"Coefficient\",\\n    \"Echelon\": \"Echelon 2\",\\n    \"Emploi\": \"Barman\",\\n    \"Statut\": \"Employé\",\\n    \"Entrée\": \"15/07/2011\",\\n    \"Commentaire\": \"Commentaire\",\\n    \"Salaire au service\": \"3603.09€\",\\n    \"Détails du salaire\": {\\n        \"0100\": {\\n            \"Désignation\": \"Salaire de base\",\\n            \"Nombre\": \"151.67\",\\n            \"Base\": \"\",\\n            \"Part salariale\": \"13.260\",\\n            \"Montant\": \"2011.14\",\\n            \"Part Patronale\": \"\",\\n            \"Montant\": \"\"\\n        },\\n        \"0106\": {\\n            \"Désignation\": \"Complément de Service\",\\n            \"Nombre\": \"\",\\n            \"Base\": \"\",\\n            \"Part salariale\": \"\",\\n            \"Montant\": \"1328.22\",\\n            \"Part Patronale\": \"\",\\n            \"Montant\": \"\"\\n        },\\n        \"0200\": {\\n            \"Désignation\": \"Heures supp. structurelles à $110 %$ Hcr (pour calcul allég.)\",\\n            \"Nombre\": \"17.33\",\\n            \"Base\": \"\",\\n            \"Part salariale\": \"15.218\",\\n            \"Montant\": \"263.73\",\\n            \"Part Patronale\": \"\",\\n            \"Montant\": \"\"\\n        },\\n        \"3205\": {\\n            \"Désignation\": \"Avantages en nature repas non exo. Hcr\",\\n            \"Nombre\": \"21.00\",\\n            \"Base\": \"\",\\n            \"Part salariale\": \"4.150\",\\n            \"Montant\": \"87.15\",\\n            \"Part Patronale\": \"\",\\n            \"Montant\": \"\"\\n        },\\n        \"3999\": {\\n            \"Désignation\": \"Total du brut\",\\n            \"Nombre\": \"169.00\",\\n            \"Base\": \"\",\\n            \"Part salariale\": \"\",\\n            \"Montant\": \"3690.24\",\\n            \"Part Patronale\": \"\",\\n            \"Montant\": \"\"\\n        },\\n        \"4000\": {\\n            \"Désignation\": \"Vieillesse déplafonnée\",\\n            \"Nombre\": \"\",\\n            \"Base\": \"3690.24\",\\n            \"Part salariale\": \"0.400\",\\n            \"Montant\": \"-14.76\",\\n            \"Part Patronale\": \"2.020\",\\n            \"Montant\": \"-74.54\"\\n        },\\n        \"4010\": {\\n            \"Désignation\": \"Vieillesse plafonnée\",\\n            \"Nombre\": \"\",\\n            \"Base\": \"3690.24\",\\n            \"Part salariale\": \"6.900\",\\n            \"Montant\": \"-254.63\",\\n            \"Part Patronale\": \"8.550\",\\n            \"Montant\": \"-315.52\"\\n        },\\n        \"4050\": {\\n            \"Désignation\": \"FNAL plafonné\",\\n            \"Nombre\": \"\",\\n            \"Base\": \"3690.24\",\\n            \"Part salariale\": \"\",\\n            \"Montant\": \"\",\\n            \"Part Patronale\": \"0.100\",\\n            \"Montant\": \"-3.69\"\\n        },\\n        \"4060\": {\\n            \"Désignation\": \"Allocations familiales\",\\n            \"Nombre\": \"\",\\n            \"Base\": \"3690.24\",\\n            \"Part salariale\": \"\",\\n            \"Montant\": \"\",\\n            \"Part Patronale\": \"3.450\",\\n            \"Montant\": \"-127.31\"\\n        },\\n        \"4080\": {\\n            \"Désignation\": \"Maladie\",\\n            \"Nombre\": \"\",\\n            \"Base\": \"3690.24\",\\n            \"Part salariale\": \"\",\\n            \"Montant\": \"\",\\n            \"Part Patronale\": \"7.000\",\\n            \"Montant\": \"-258.32\"\\n        },\\n        \"4100\": {\\n            \"Désignation\": \"Accident du travail\",\\n            \"Nombre\": \"\",\\n            \"Base\": \"3690.24\",\\n            \"Part salariale\": \"\",\\n            \"Montant\": \"\",\\n            \"Part Patronale\": \"1.840\",\\n            \"Montant\": \"-67.90\"\\n        },\\n        \"4120\": {\\n            \"Désignation\": \"Solidarité autonomie\",\\n            \"Nombre\": \"\",\\n            \"Base\": \"3690.24\",\\n            \"Part salariale\": \"\",\\n            \"Montant\": \"\",\\n            \"Part Patronale\": \"0.300\",\\n            \"Montant\": \"-11.07\"\\n        },\\n        \"4350\": {\\n            \"Désignation\": \"Forfait social à $8 %$ (prévoyance)\",\\n            \"Nombre\": \"\",\\n            \"Base\": \"40.60\",\\n            \"Part salariale\": \"\",\\n            \"Montant\": \"\",\\n            \"Part Patronale\": \"8.000\",\\n            \"Montant\": \"8.000\"\\n        },\\n        \"4420\": {\\n            \"Désignation\": \"Réduction salariale cotisations heures supp.\",\\n            \"Nombre\": \"\",\\n            \"Base\": \"\",\\n            \"Part salariale\": \"\",\\n            \"Montant\": \"29.83\",\\n            \"Part Patronale\": \"\",\\n            \"Montant\": \"\"\\n        },\\n        \"4430\": {\\n            \"Désignation\": \"Déduction forfaitaire patronale heures supp.\",\\n            \"Nombre\": \"17.33\",\\n            \"Base\": \"\",\\n            \"Part salariale\": \"\",\\n            \"Montant\": \"\",\\n            \"Part Patronale\": \"0.500\",\\n            \"Montant\": \"8.66\"\\n        },\\n        \"4500\": {\\n            \"Désignation\": \"CSG déductíble\",\\n            \"Nombre\": \"\",\\n            \"Base\": \"3407.15\",\\n            \"Part salariale\": \"6.800\",\\n            \"Montant\": \"-231.69\",\\n            \"Part Patronale\": \"\",\\n            \"Montant\": \"\"\\n        },\\n        \"4600\": {\\n            \"Désignation\": \"Versement mobilité\",\\n            \"Nombre\": \"\",\\n            \"Base\": \"3690.24\",\\n            \"Part salariale\": \"\",\\n            \"Montant\": \"\",\\n            \"Part Patronale\": \"3.200\",\\n            \"Montant\": \"-118.09\"\\n        },\\n        \"4740\": {\\n            \"Désignation\": \"Contribution au dialogue social\",\\n            \"Nombre\": \"\",\\n            \"Base\": \"3690.24\",\\n            \"Part salariale\": \"\",\\n            \"Montant\": \"\",\\n            \"Part Patronale\": \"0.016\",\\n            \"Montant\": \"-0.59\"\\n        },\\n        \"4800\": {\\n            \"Désignation\": \"Assurance chômage TA\",\\n            \"Nombre\": \"\",\\n            \"Base\": \"3690.24\",\\n            \"Part salariale\": \"\",\\n            \"Montant\": \"\",\\n            \"Part Patronale\": \"4.050\",\\n            \"Montant\": \"-149.45\"\\n        },\\n        \"4815\": {\\n            \"Désignation\": \"Assurance chômage modulation\",\\n            \"Nombre\": \"\",\\n            \"Base\": \"3690.24\",\\n            \"Part salariale\": \"\",\\n            \"Montant\": \"\",\\n            \"Part Patronale\": \"0.490\",\\n            \"Montant\": \"-18.08\"\\n        },\\n        \"4900\": {\\n            \"Désignation\": \"AGS TA + TB\",\\n            \"Nombre\": \"\",\\n            \"Base\": \"3690.24\",\\n            \"Part salariale\": \"\",\\n            \"Montant\": \"\",\\n            \"Part Patronale\": \"0.250\",\\n            \"Montant\": \"-9.23\"\\n        },\\n        \"6000\": {\\n            \"Désignation\": \"KLESIA (ex-Groupe D ET O) Retraite T1\",\\n            \"Nombre\": \"\",\\n            \"Base\": \"3690.24\",\\n            \"Part salariale\": \"3.150\",\\n            \"Montant\": \"-116.24\",\\n            \"Part Patronale\": \"4.720\",\\n            \"Montant\": \"-174.18\"\\n        },\\n        \"6008\": {\\n            \"Désignation\": \"KLESIA (ex-Groupe D ET O) Retraite CEG T1\",\\n            \"Nombre\": \"\",\\n            \"Base\": \"3690.24\",\\n            \"Part salariale\": \"0.860\",\\n            \"Montant\": \"-31.74\",\\n            \"Part Patronale\": \"1.290\",\\n            \"Montant\": \"-47.60\"\\n        },\\n        \"7000\": {\\n            \"Désignation\": \"KLESIA P Prévoyance décée\",\\n            \"Nombre\": \"\",\\n            \"Base\": \"3690.24\",\\n            \"Part salariale\": \"0.066\",\\n            \"Montant\": \"-2.44\",\\n            \"Part Patronale\": \"0.224\",\\n            \"Montant\": \"-8.27\"\\n        },\\n        \"7010\": {\\n            \"Désignation\": \"KLESIA P Prévoyance incapacité\",\\n            \"Nombre\": \"\",\\n            \"Base\": \"3690.24\",\\n            \"Part salariale\": \"0.176\",\\n            \"Montant\": \"-6.49\",\\n            \"Part Patronale\": \"0.044\",\\n            \"Montant\": \"-1.62\"\\n        },\\n        \"7050\": {\\n            \"Désignation\": \"KLESIA P Prévoyance invalidité\",\\n            \"Nombre\": \"\",\\n            \"Base\": \"3690.24\",\\n            \"Part salariale\": \"0.152\",\\n            \"Montant\": \"-5.61\",\\n            \"Part Patronale\": \"0.038\",\\n            \"Montant\": \"-1.40\"\\n        },\\n        \"7100\": {\\n            \"Désignation\": \"KLESIA P Prévoyance rente éducation\",\\n            \"Nombre\": \"\",\\n            \"Base\": \"3690.24\",\\n            \"Part salariale\": \"0.036\",\\n            \"Montant\": \"-1.33\",\\n            \"Part Patronale\": \"0.124\",\\n            \"Montant\": \"-4.58\"\\n        },\\n        \"7601\": {\\n            \"Désignation\": \"KLESIA P Mutuelle obl. sur Plafond\",\\n            \"Nombre\": \"\",\\n            \"Base\": \"3864.00\",\\n            \"Part salariale\": \"0.640\",\\n            \"Montant\": \"-24.73\",\\n            \"Part Patronale\": \"0.640\",\\n            \"Montant\": \"-24.73\"\\n        },\\n        \"7999\": {\\n            \"Désignation\": \"Total imposable\",\\n            \"Nombre\": \"\",\\n            \"Base\": \"\",\\n            \"Part salariale\": \"\",\\n            \"Montant\": \"2791.41\",\\n            \"Part Patronale\": \"\",\\n            \"Montant\": \"\"\\n        },\\n        \"8000\": {\\n            \"Désignation\": \"CSG/CRDS non déductible\",\\n            \"Nombre\": \"\",\\n            \"Base\": \"3407.15\",\\n            \"Part salariale\": \"2.900\",\\n            \"Montant\": \"-98.81\",\\n            \"Part Patronale\": \"\",\\n            \"Montant\": \"\"\\n        },\\n        \"8020\": {\\n            \"Désignation\": \"CSG non déductible sur sommes non imposables (hors épargne\",\\n            \"Nombre\": \"\",\\n            \"Base\": \"259.11\",\\n            \"Part salariale\": \"9.700\",\\n            \"Montant\": \"-25.13\",\\n            \"Part Patronale\": \"\",\\n            \"Montant\": \"\"\\n        },\\n        \"8531\": {\\n            \"Désignation\": \"Navigo mensuel\",\\n            \"Nombre\": \"\",\\n            \"Base\": \"\",\\n            \"Part salariale\": \"\",\\n            \"Montant\": \"43.20\",\\n            \"Part Patronale\": \"\",\\n            \"Montant\": \"\"\\n        },\\n        \"8999\": {\\n            \"Désignation\": \"Total dú\",\\n            \"Nombre\": \"\",\\n            \"Base\": \"\",\\n            \"Part salariale\": \"\",\\n            \"Montant\": \"2949.67\",\\n            \"Part Patronale\": \"\",\\n            \"Montant\": \"\"\\n        },\\n        \"9200\": {\\n            \"Désignation\": \"Acompte\",\\n            \"Nombre\": \"\",\\n            \"Base\": \"\",\\n            \"Part salariale\": \"\",\\n            \"Montant\": \"-600.00\",\\n            \"Part Patronale\": \"\",\\n            \"Montant\": \"\"\\n        },\\n        \"9450\": {\\n            \"Désignation\": \"Reprise avantages en nature\",\\n            \"Nombre\": \"\",\\n            \"Base\": \"\",\\n            \"Part salariale\": \"\",\\n            \"Montant\": \"87.15\",\\n            \"Part Patronale\": \"\",\\n            \"Montant\": \"\"\\n        },\\n        \"9500\": {\\n            \"Désignation\": \"Formation professionnelle\",\\n            \"Nombre\": \"\",\\n            \"Base\": \"3690.24\",\\n            \"Part salariale\": \"\",\\n            \"Montant\": \"\",\\n            \"Part Patronale\": \"1.000\",\\n            \"Montant\": \"-36.90\"\\n        },\\n        \"9600\": {\\n            \"Désignation\": \"Taxe d\\'apprentissage (part principale)\",\\n            \"Nombre\": \"\",\\n            \"Base\": \"3690.24\",\\n            \"Part salariale\": \"\",\\n            \"Montant\": \"\",\\n            \"Part Patronale\": \"0.590\",\\n            \"Montant\": \"-21.77\"\\n        },\\n        \"9602\": {\\n            \"Désignation\": \"Taxe d\\'apprentissage (solide)\",\\n            \"Nombre\": \"\",\\n            \"Base\": \"3690.24\",\\n            \"Part salariale\": \"\",\\n            \"Montant\": \"\",\\n            \"Part Patronale\": \"0.090\",\\n            \"Montant\": \"-3.32\"\\n        },\\n        \"9987\": {\\n            \"Désignation\": \"Montant net social\",\\n            \"Nombre\": \"\",\\n            \"Base\": \"2906.47\",\\n            \"Part salariale\": \"\",\\n            \"Montant\": \"\",\\n            \"Part Patronale\": \"\",\\n            \"Montant\": \"\"\\n        },\\n        \"9995\": {\\n            \"Désignation\": \"Total net à payer avant prélèvement à la source\",\\n            \"Nombre\": \"\",\\n            \"Base\": \"\",\\n            \"Part salariale\": \"\",\\n            \"Montant\": \"2262.52\",\\n            \"Part Patronale\": \"\",\\n            \"Montant\": \"\"\\n        },\\n        \"9996\": {\\n            \"Désignation\": \"Évolution rémunération taux de cotisations 2018\",\\n            \"Nombre\": \"\",\\n            \"Base\": \"\",\\n            \"Part salariale\": \"\",\\n            \"Montant\": \"53.92\",\\n            \"Part Patronale\": \"\",\\n            \"Montant\": \"\"\\n        },\\n        \"9997\": {\\n            \"Désignation\": \"Prélèvement à la source (taux personnalisé)\",\\n            \"Nombre\": \"\",\\n            \"Base\": \"\",\\n            \"Part salariale\": \"2791.41\",\\n            \"Montant\": \"4.300\",\\n            \"Part Patronale\": \"120.03\",\\n            \"Montant\": \"\"\\n        },\\n        \"9999\": {\\n            \"Désignation\": \"Total net à payer\",\\n            \"Nombre\": \"\",\\n            \"Base\": \"\",\\n            \"Part salariale\": \"\",\\n            \"Montant\": \"2142.49\",\\n            \"Part Patronale\": \"\",\\n            \"Montant\": \"\"\\n        }\\n    },\\n    \"Congés payés\": {\\n        \"Acquis\": \"30.00\",\\n        \"Pris\": \"13.50\",\\n        \"Solde\": \"16.50\"\\n    },\\n    \"RTT\": {\\n        \"Acquis\": \"\",\\n        \"Pris\": \"\",\\n        \"Solde\": \"\"\\n    },\\n    \"Charges\": {\\n        \"Heures\": \"169.00\",\\n        \"Brut\": \"3690.24\",\\n        \"Base CP\": \"3690.24\",\\n        \"Charges salariales\": \"783.77\",\\n        \"Charges patronales\": \"1472.75\",\\n        \"Plafond\": \"3864.00\",\\n        \"Assiette plafonnée\": \"3690.24\",\\n        \"Net imposable\": \"2791.41\",\\n        \"Montant PAS\": \"120.03\",\\n        \"Mt. HC/HS défis.\": \"246.11\"\\n    },\\n    \"Cumul\": {\\n        \"Heures\": \"1690.00\",\\n        \"Brut\": \"34430.85\",\\n        \"Base CP\": \"18219.44\",\\n        \"Charges salariales\": \"7304.15\",\\n        \"Charges patronales\": \"13852.60\",\\n        \"Plafond\": \"38640.00\",\\n        \"Assiette plafonnée\": \"34430.85\",\\n        \"Net imposable\": \"25858.90\",\\n        \"Montant PAS\": \"1353.73\",\\n        \"Mt. HC/HS défis.\": \"2507.54\"\\n    }\\n} }'"
      ]
     },
     "execution_count": 25,
     "metadata": {},
     "output_type": "execute_result"
    }
   ],
   "source": [
    "content"
   ]
  }
 ],
 "metadata": {
  "kernelspec": {
   "display_name": ".venv (3.13.2)",
   "language": "python",
   "name": "python3"
  },
  "language_info": {
   "codemirror_mode": {
    "name": "ipython",
    "version": 3
   },
   "file_extension": ".py",
   "mimetype": "text/x-python",
   "name": "python",
   "nbconvert_exporter": "python",
   "pygments_lexer": "ipython3",
   "version": "3.13.2"
  }
 },
 "nbformat": 4,
 "nbformat_minor": 2
}
