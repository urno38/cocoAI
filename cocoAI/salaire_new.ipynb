{
 "cells": [
  {
   "cell_type": "code",
   "execution_count": 1,
   "metadata": {},
   "outputs": [
    {
     "name": "stderr",
     "output_type": "stream",
     "text": [
      "cocoAI - INFO - GALLA_202410 CAMARA Djiedji_Normal.pdf already exists in PAIE_10\n"
     ]
    },
    {
     "name": "stdout",
     "output_type": "stream",
     "text": [
      "logfile available C:\\Users\\lvolat\\Documents\\cocoAI\\cocoAI\\ipykernel_launcher.log\n"
     ]
    }
   ],
   "source": [
    "from salaire import *"
   ]
  },
  {
   "cell_type": "code",
   "execution_count": 3,
   "metadata": {},
   "outputs": [],
   "source": [
    "tables = extract_markdown_tables(ocr_markdown)"
   ]
  },
  {
   "cell_type": "code",
   "execution_count": 4,
   "metadata": {},
   "outputs": [
    {
     "data": {
      "text/plain": [
       "[\"| $\\\\mathrm{N}^{\\\\circ}$ | Désignation | Nombre | Base | Part salariale |  | Part Patronale |  |\\n| :--: | :--: | :--: | :--: | :--: | :--: | :--: | :--: |\\n|  |  |  |  | Taux | Montant | Taux | Montant |\\n| 0100 | Salaire de base | 151.67 |  | 13.260 | 2011.14 |  |  |\\n| 0106 | Complément de Service |  |  |  | 1328.22 |  |  |\\n| 0200 | Heures supp. structurelles à $110 \\\\%$ Hcr (pour calcul allég.) | 17.33 |  | 15.218 | 263.73 |  |  |\\n| 3205 | Avantages en nature repas non exo. Hcr | 21.00 |  | 4.150 | 87.15 |  |  |\\n| 3999 | Total du brut | 169.00 |  |  | 3690.24 |  |  |\\n| 4000 | Vieillesse déplafonnée |  | 3690.24 | 0.400 | -14.76 | 2.020 | -74.54 |\\n| 4010 | Vieillesse plafonnée |  | 3690.24 | 6.900 | -254.63 | 8.550 | -315.52 |\\n| 4050 | FNAL plafonné |  | 3690.24 |  |  | 0.100 | -3.69 |\\n| 4060 | Allocations familiales |  | 3690.24 |  |  | 3.450 | -127.31 |\\n| 4080 | Maladie |  | 3690.24 |  |  | 7.000 | -258.32 |\\n| 4100 | Accident du travail |  | 3690.24 |  |  | 1.840 | -67.90 |\\n| 4120 | Solidarité autonomie |  | 3690.24 |  |  | 0.300 | -11.07 |\\n| 4350 | Forfait social à $8 \\\\%$ (prévoyance) |  | 40.60 |  |  | 8.000 | 8.000 |\\n| 4420 | Réduction salariale cotisations heures supp. |  |  |  | 29.83 |  |  |\\n| 4430 | Déduction forfaitaire patronale heures supp. | 17.33 |  |  |  | 0.500 | 8.66 |\\n| 4500 | CSG déductíble |  | 3407.15 | 6.800 | -231.69 |  |  |\\n| 4600 | Versement mobilité |  | 3690.24 |  |  | 3.200 | -118.09 |\\n| 4740 | Contribution au dialogue social |  | 3690.24 |  |  | 0.016 | -0.59 |\\n| 4800 | Assurance chômage TA |  | 3690.24 |  |  | 4.050 | -149.45 |\\n| 4815 | Assurance chômage modulation |  | 3690.24 |  |  | 0.490 | -18.08 |\\n| 4900 | AGS TA + TB |  | 3690.24 |  |  | 0.250 | -9.23 |\\n| 6000 | KLESIA (ex-Groupe D ET O) Retraite T1 |  | 3690.24 | 3.150 | -116.24 | 4.720 | -174.18 |\\n| 6008 | KLESIA (ex-Groupe D ET O) Retraite CEG T1 |  | 3690.24 | 0.860 | -31.74 | 1.290 | -47.60 |\\n| 7000 | KLESIA P Prévoyance décée |  | 3690.24 | 0.066 | -2.44 | 0.224 | -8.27 |\\n| 7010 | KLESIA P Prévoyance incapacité |  | 3690.24 | 0.176 | -6.49 | 0.044 | -1.62 |\\n| 7050 | KLESIA P Prévoyance invalidité |  | 3690.24 | 0.152 | -5.61 | 0.038 | -1.40 |\\n| 7100 | KLESIA P Prévoyance rente éducation |  | 3690.24 | 0.036 | -1.33 | 0.124 | -4.58 |\\n| 7601 | KLESIA P Mutuelle obl. sur Plafond |  | 3864.00 | 0.640 | -24.73 | 0.640 | -24.73 |\\n| 7999 | Total imposable |  |  |  | 2791.41 |  |  |\\n| 8000 | CSG/CRDS non déductible |  | 3407.15 | 2.900 | -98.81 |  |  |\\n| 8020 | CSG non déductible sur sommes non imposables (hors épargne |  | 259.11 | 9.700 | -25.13 |  |  |\\n| 8531 | Navigo mensuel |  |  |  | 43.20 |  |  |\\n| 8999 | Total dú |  |  |  | 2949.67 |  |  |\\n| 9200 | Acompte |  |  |  | -600.00 |  |  |\\n| 9450 | Reprise avantages en nature |  |  |  | 87.15 |  |  |\\n| 9500 | Formation professionnelle |  | 3690.24 |  |  | 1.000 | -36.90 |\\n| 9600 | Taxe d'apprentissage (part principale) |  | 3690.24 |  |  | 0.590 | -21.77 |\\n| 9602 | Taxe d'apprentissage (solide) |  | 3690.24 |  |  | 0.090 | -3.32 |\\n| 9987 | Montant net social |  | 2906.47 |  |  |  |  |\\n| 9995 | Total net à payer avant prélèvement à la source |  |  |  | 2262.52 |  |  |\\n| 9996 | Evolution rémunération taux de cotisations 2018 |  |  |  | 53.92 |  |  |\\n| 9997 | Prélèvement à la source (taux personnalisé) |  |  | 2791.41 | 4.300 | 120.03 |  |  |\\n| 9999 | Total net à payer |  |  |  | 2142.49 |  |  |\\n\",\n",
       " '|  | CONGES PAYES |  | RTT |  | CHARGES |  |\\n| :--: | :--: | :--: | :--: | :--: | :--: | :--: |\\n|  | N-1 | N | N-1 | N |  |  |\\n| Acquis | 30.00 | 12.50 |  |  |  |  |\\n| Pris | 13.50 |  |  | Totales | 2256.52 |  |\\n| Solde | 16.50 | 12.50 |  | Coût global | 5206.19 |  |\\n|  | Heures | Brut | Base CP | Charges salariales | Charges patronales | Plafond | Assiette plafonnée | Net imposable | Montant PAS | Mt. HC/HS défis. |\\n| Mois | 169.00 | 3690.24 | 3690.24 | 783.77 | 1472.75 | 3864.00 | 3690.24 | 2791.41 | 120.03 | 246.11 |\\n| Cumul | 1690.00 | 34430.85 | 18219.44 | 7304.15 | 13852.60 | 38640.00 | 34430.85 | 25858.90 | 1353.73 | 2507.54 |']"
      ]
     },
     "execution_count": 4,
     "metadata": {},
     "output_type": "execute_result"
    }
   ],
   "source": [
    "tables"
   ]
  },
  {
   "cell_type": "code",
   "execution_count": null,
   "metadata": {},
   "outputs": [
    {
     "name": "stdout",
     "output_type": "stream",
     "text": [
      "Index(['', '$\\mathrm{N}^{\\circ}$', 'Désignation', 'Nombre', 'Base',\n",
      "       'Part salariale', 'Part Patronale'],\n",
      "      dtype='object')\n"
     ]
    }
   ],
   "source": [
    "\n",
    "df = mrkd2df(tables[0])\n",
    "print(df.columns)"
   ]
  },
  {
   "cell_type": "code",
   "execution_count": 41,
   "metadata": {},
   "outputs": [
    {
     "data": {
      "text/plain": [
       "['| $\\\\mathrm{N}^{\\\\circ}$ | Désignation | Nombre | Base | Part salariale |  | Part Patronale |  |',\n",
       " '| :--: | :--: | :--: | :--: | :--: | :--: | :--: | :--: |',\n",
       " '|  |  |  |  | Taux | Montant | Taux | Montant |']"
      ]
     },
     "execution_count": 41,
     "metadata": {},
     "output_type": "execute_result"
    }
   ],
   "source": [
    "tables[0].split('\\n')[:3]"
   ]
  },
  {
   "cell_type": "code",
   "execution_count": 15,
   "metadata": {},
   "outputs": [
    {
     "name": "stdout",
     "output_type": "stream",
     "text": [
      "C:\\Users\\lvolat\\Documents\\cocoAI\\cocoAI\\salaires.json\n"
     ]
    }
   ],
   "source": [
    "from pathlib import Path\n",
    "\n",
    "\n",
    "response_dict2 = json.loads(content)\n",
    "with open(\"salaires.json\", \"w\", encoding=\"utf-8\") as f:\n",
    "    print(Path(\"salaires.json\").resolve())\n",
    "    f.write(json.dumps(response_dict2, ensure_ascii=False))"
   ]
  },
  {
   "cell_type": "code",
   "execution_count": 38,
   "metadata": {},
   "outputs": [
    {
     "data": {
      "text/markdown": [
       "| $\\mathrm{N}^{\\circ}$ | Désignation | Nombre | Base | Part salariale |  | Part Patronale |  |\n",
       "| :--: | :--: | :--: | :--: | :--: | :--: | :--: | :--: |\n",
       "|  |  |  |  | Taux | Montant | Taux | Montant |\n",
       "| 0100 | Salaire de base | 151.67 |  | 13.260 | 2011.14 |  |  |\n",
       "| 0106 | Complément de Service |  |  |  | 1328.22 |  |  |\n",
       "| 0200 | Heures supp. structurelles à $110 \\%$ Hcr (pour calcul allég.) | 17.33 |  | 15.218 | 263.73 |  |  |\n",
       "| 3205 | Avantages en nature repas non exo. Hcr | 21.00 |  | 4.150 | 87.15 |  |  |\n",
       "| 3999 | Total du brut | 169.00 |  |  | 3690.24 |  |  |\n",
       "| 4000 | Vieillesse déplafonnée |  | 3690.24 | 0.400 | -14.76 | 2.020 | -74.54 |\n",
       "| 4010 | Vieillesse plafonnée |  | 3690.24 | 6.900 | -254.63 | 8.550 | -315.52 |\n",
       "| 4050 | FNAL plafonné |  | 3690.24 |  |  | 0.100 | -3.69 |\n",
       "| 4060 | Allocations familiales |  | 3690.24 |  |  | 3.450 | -127.31 |\n",
       "| 4080 | Maladie |  | 3690.24 |  |  | 7.000 | -258.32 |\n",
       "| 4100 | Accident du travail |  | 3690.24 |  |  | 1.840 | -67.90 |\n",
       "| 4120 | Solidarité autonomie |  | 3690.24 |  |  | 0.300 | -11.07 |\n",
       "| 4350 | Forfait social à $8 \\%$ (prévoyance) |  | 40.60 |  |  | 8.000 | 8.000 |\n",
       "| 4420 | Réduction salariale cotisations heures supp. |  |  |  | 29.83 |  |  |\n",
       "| 4430 | Déduction forfaitaire patronale heures supp. | 17.33 |  |  |  | 0.500 | 8.66 |\n",
       "| 4500 | CSG déductlble |  | 3407.15 | 6.800 | -231.69 |  |  |\n",
       "| 4600 | Versement mobilité |  | 3690.24 |  |  | 3.200 | -118.09 |\n",
       "| 4740 | Contribution au dialogue social |  | 3690.24 |  |  | 0.016 | -0.59 |\n",
       "| 4800 | Assurance chômage TA |  | 3690.24 |  |  | 4.050 | -149.45 |\n",
       "| 4815 | Assurance chômage modulation |  | 3690.24 |  |  | 0.490 | -18.08 |\n",
       "| 4900 | AGS TA + TB |  | 3690.24 |  |  | 0.250 | -9.23 |\n",
       "| 6000 | KLESIA (ex-Groupe D ET O) Retraite T1 |  | 3690.24 | 3.150 | -116.24 | 4.720 | -174.18 |\n",
       "| 6008 | KLESIA (ex-Groupe D ET O) Retraite CEG T1 |  | 3690.24 | 0.860 | -31.74 | 1.290 | -47.60 |\n",
       "| 7000 | KLESIA P Prévoyance décée |  | 3690.24 | 0.066 | -2.44 | 0.224 | -8.27 |\n",
       "| 7010 | KLESIA P Prévoyance incapacité |  | 3690.24 | 0.176 | -6.49 | 0.044 | -1.62 |\n",
       "| 7050 | KLESIA P Prévoyance invalidité |  | 3690.24 | 0.152 | -5.61 | 0.038 | -1.40 |\n",
       "| 7100 | KLESIA P Prévoyance rente éducation |  | 3690.24 | 0.036 | -1.33 | 0.124 | -4.58 |\n",
       "| 7601 | KLESIA P Mutuelle obl. sur Plafond |  | 3864.00 | 0.640 | -24.73 | 0.640 | -24.73 |\n",
       "| 7999 | Total imposable |  |  |  | 2791.41 |  |  |\n",
       "| 8000 | CSG/CRDS non déductible |  | 3407.15 | 2.900 | -98.81 |  |  |\n",
       "| 8020 | CSG non déductible sur sommes non imposables (hors épargne |  | 259.11 | 9.700 | -25.13 |  |  |\n",
       "| 8531 | Navigo mensuel |  |  |  | 43.20 |  |  |\n",
       "| 8999 | Total dû |  |  |  | 2949.67 |  |  |\n",
       "| 9200 | Acompte |  |  |  | -600.00 |  |  |\n",
       "| 9450 | Reprise avantages en nature |  |  |  | 87.15 |  |  |\n",
       "| 9500 | Formation professionnelle |  | 3690.24 |  |  | 1.000 | -36.90 |\n",
       "| 9600 | Taxe d'apprentissage (part principale) |  | 3690.24 |  |  | 0.590 | -21.77 |\n",
       "| 9602 | Taxe d'apprentissage (solide) |  | 3690.24 |  |  | 0.090 | -3.32 |\n",
       "| 9987 | Montant net social |  | 2906.47 |  |  |  |  |\n",
       "| 9995 | Total net à payer avant prélèvement à la source |  |  |  | 2262.52 |  |  |\n",
       "| 9996 | Evolution rémunération taux de cotisations 2018 |  |  |  | 53.92 |  |  |\n",
       "| 9997 | Prélèvement à la source (taux personnalisé) |  |  | 2791.41 | 4.300 | 120.03 |  |  |\n",
       "| 9999 | Total net à payer |  |  |  | 2142.49 |  |  |\n"
      ],
      "text/plain": [
       "<IPython.core.display.Markdown object>"
      ]
     },
     "execution_count": 38,
     "metadata": {},
     "output_type": "execute_result"
    }
   ],
   "source": [
    "from IPython.display import Markdown, display\n",
    "Markdown(tables[0])"
   ]
  },
  {
   "cell_type": "code",
   "execution_count": 22,
   "metadata": {},
   "outputs": [],
   "source": [
    "\n",
    "l = list(PAIE.glob('*Dernier*'))+list(PAIE.glob('*Normal*'))\n"
   ]
  },
  {
   "cell_type": "code",
   "execution_count": 23,
   "metadata": {},
   "outputs": [
    {
     "data": {
      "text/plain": [
       "[WindowsPath(\"C:/Users/lvolat/COMPTOIRS ET COMMERCES/COMMERCIAL - Documents/2 - DOSSIERS à l'ETUDE/CHIEN QUI FUME (Le) - 75001 PARIS - 33 Rue du PONT-NEUF/5. SOCIAL/PAIE 10/GALLA_202410 FAROUX Sarah_Dernier.pdf\"),\n",
       " WindowsPath(\"C:/Users/lvolat/COMPTOIRS ET COMMERCES/COMMERCIAL - Documents/2 - DOSSIERS à l'ETUDE/CHIEN QUI FUME (Le) - 75001 PARIS - 33 Rue du PONT-NEUF/5. SOCIAL/PAIE 10/GALLA_202410 GUEYE Elhadji_Dernier.pdf\"),\n",
       " WindowsPath(\"C:/Users/lvolat/COMPTOIRS ET COMMERCES/COMMERCIAL - Documents/2 - DOSSIERS à l'ETUDE/CHIEN QUI FUME (Le) - 75001 PARIS - 33 Rue du PONT-NEUF/5. SOCIAL/PAIE 10/GALLA_202410 HOWLADER Farid_Dernier.pdf\"),\n",
       " WindowsPath(\"C:/Users/lvolat/COMPTOIRS ET COMMERCES/COMMERCIAL - Documents/2 - DOSSIERS à l'ETUDE/CHIEN QUI FUME (Le) - 75001 PARIS - 33 Rue du PONT-NEUF/5. SOCIAL/PAIE 10/GALLA_202410 LEGAULT Joseph_Dernier.pdf\"),\n",
       " WindowsPath(\"C:/Users/lvolat/COMPTOIRS ET COMMERCES/COMMERCIAL - Documents/2 - DOSSIERS à l'ETUDE/CHIEN QUI FUME (Le) - 75001 PARIS - 33 Rue du PONT-NEUF/5. SOCIAL/PAIE 10/GALLA_202410 MARTIN Camille_Dernier.pdf\"),\n",
       " WindowsPath(\"C:/Users/lvolat/COMPTOIRS ET COMMERCES/COMMERCIAL - Documents/2 - DOSSIERS à l'ETUDE/CHIEN QUI FUME (Le) - 75001 PARIS - 33 Rue du PONT-NEUF/5. SOCIAL/PAIE 10/GALLA_202410 MUHILAN Thatparananthan_Dernier.pdf\"),\n",
       " WindowsPath(\"C:/Users/lvolat/COMPTOIRS ET COMMERCES/COMMERCIAL - Documents/2 - DOSSIERS à l'ETUDE/CHIEN QUI FUME (Le) - 75001 PARIS - 33 Rue du PONT-NEUF/5. SOCIAL/PAIE 10/GALLA_202410 POUREV BIAMBAA_Dernier.pdf\"),\n",
       " WindowsPath(\"C:/Users/lvolat/COMPTOIRS ET COMMERCES/COMMERCIAL - Documents/2 - DOSSIERS à l'ETUDE/CHIEN QUI FUME (Le) - 75001 PARIS - 33 Rue du PONT-NEUF/5. SOCIAL/PAIE 10/GALLA_202410 RAHAL Zacharia_Dernier.pdf\"),\n",
       " WindowsPath(\"C:/Users/lvolat/COMPTOIRS ET COMMERCES/COMMERCIAL - Documents/2 - DOSSIERS à l'ETUDE/CHIEN QUI FUME (Le) - 75001 PARIS - 33 Rue du PONT-NEUF/5. SOCIAL/PAIE 10/GALLA_202410 SAUYTBEK Niyetzhan_Dernier.pdf\"),\n",
       " WindowsPath(\"C:/Users/lvolat/COMPTOIRS ET COMMERCES/COMMERCIAL - Documents/2 - DOSSIERS à l'ETUDE/CHIEN QUI FUME (Le) - 75001 PARIS - 33 Rue du PONT-NEUF/5. SOCIAL/PAIE 10/GALLA_202410 URIBE INES LUCIANA_Dernier.pdf\"),\n",
       " WindowsPath(\"C:/Users/lvolat/COMPTOIRS ET COMMERCES/COMMERCIAL - Documents/2 - DOSSIERS à l'ETUDE/CHIEN QUI FUME (Le) - 75001 PARIS - 33 Rue du PONT-NEUF/5. SOCIAL/PAIE 10/GALLA_202410 ABRAHAM NOEL Julious Makesan_Normal.pdf\"),\n",
       " WindowsPath(\"C:/Users/lvolat/COMPTOIRS ET COMMERCES/COMMERCIAL - Documents/2 - DOSSIERS à l'ETUDE/CHIEN QUI FUME (Le) - 75001 PARIS - 33 Rue du PONT-NEUF/5. SOCIAL/PAIE 10/GALLA_202410 ANDJETA Dabo_Normal.pdf\"),\n",
       " WindowsPath(\"C:/Users/lvolat/COMPTOIRS ET COMMERCES/COMMERCIAL - Documents/2 - DOSSIERS à l'ETUDE/CHIEN QUI FUME (Le) - 75001 PARIS - 33 Rue du PONT-NEUF/5. SOCIAL/PAIE 10/GALLA_202410 BA Diobourou_Normal.pdf\"),\n",
       " WindowsPath(\"C:/Users/lvolat/COMPTOIRS ET COMMERCES/COMMERCIAL - Documents/2 - DOSSIERS à l'ETUDE/CHIEN QUI FUME (Le) - 75001 PARIS - 33 Rue du PONT-NEUF/5. SOCIAL/PAIE 10/GALLA_202410 BETOUCHE Boussad_Normal.pdf\"),\n",
       " WindowsPath(\"C:/Users/lvolat/COMPTOIRS ET COMMERCES/COMMERCIAL - Documents/2 - DOSSIERS à l'ETUDE/CHIEN QUI FUME (Le) - 75001 PARIS - 33 Rue du PONT-NEUF/5. SOCIAL/PAIE 10/GALLA_202410 BOCHEF Sabrina_Normal.pdf\"),\n",
       " WindowsPath(\"C:/Users/lvolat/COMPTOIRS ET COMMERCES/COMMERCIAL - Documents/2 - DOSSIERS à l'ETUDE/CHIEN QUI FUME (Le) - 75001 PARIS - 33 Rue du PONT-NEUF/5. SOCIAL/PAIE 10/GALLA_202410 BRUN St phane_Normal.pdf\"),\n",
       " WindowsPath(\"C:/Users/lvolat/COMPTOIRS ET COMMERCES/COMMERCIAL - Documents/2 - DOSSIERS à l'ETUDE/CHIEN QUI FUME (Le) - 75001 PARIS - 33 Rue du PONT-NEUF/5. SOCIAL/PAIE 10/GALLA_202410 CAMARA Bakary_Normal.pdf\"),\n",
       " WindowsPath(\"C:/Users/lvolat/COMPTOIRS ET COMMERCES/COMMERCIAL - Documents/2 - DOSSIERS à l'ETUDE/CHIEN QUI FUME (Le) - 75001 PARIS - 33 Rue du PONT-NEUF/5. SOCIAL/PAIE 10/GALLA_202410 CAMARA Djiedji_Normal.pdf\"),\n",
       " WindowsPath(\"C:/Users/lvolat/COMPTOIRS ET COMMERCES/COMMERCIAL - Documents/2 - DOSSIERS à l'ETUDE/CHIEN QUI FUME (Le) - 75001 PARIS - 33 Rue du PONT-NEUF/5. SOCIAL/PAIE 10/GALLA_202410 CATARINO RUMOR PAIVA Marie Leonor_Normal.pdf\"),\n",
       " WindowsPath(\"C:/Users/lvolat/COMPTOIRS ET COMMERCES/COMMERCIAL - Documents/2 - DOSSIERS à l'ETUDE/CHIEN QUI FUME (Le) - 75001 PARIS - 33 Rue du PONT-NEUF/5. SOCIAL/PAIE 10/GALLA_202410 DIALLO Moussa_Normal.pdf\"),\n",
       " WindowsPath(\"C:/Users/lvolat/COMPTOIRS ET COMMERCES/COMMERCIAL - Documents/2 - DOSSIERS à l'ETUDE/CHIEN QUI FUME (Le) - 75001 PARIS - 33 Rue du PONT-NEUF/5. SOCIAL/PAIE 10/GALLA_202410 GUECHOUD Madhi_Normal.pdf\"),\n",
       " WindowsPath(\"C:/Users/lvolat/COMPTOIRS ET COMMERCES/COMMERCIAL - Documents/2 - DOSSIERS à l'ETUDE/CHIEN QUI FUME (Le) - 75001 PARIS - 33 Rue du PONT-NEUF/5. SOCIAL/PAIE 10/GALLA_202410 GUNASEELAN Premananth_Normal.pdf\"),\n",
       " WindowsPath(\"C:/Users/lvolat/COMPTOIRS ET COMMERCES/COMMERCIAL - Documents/2 - DOSSIERS à l'ETUDE/CHIEN QUI FUME (Le) - 75001 PARIS - 33 Rue du PONT-NEUF/5. SOCIAL/PAIE 10/GALLA_202410 HASANUZZAMAN Md_Normal.pdf\"),\n",
       " WindowsPath(\"C:/Users/lvolat/COMPTOIRS ET COMMERCES/COMMERCIAL - Documents/2 - DOSSIERS à l'ETUDE/CHIEN QUI FUME (Le) - 75001 PARIS - 33 Rue du PONT-NEUF/5. SOCIAL/PAIE 10/GALLA_202410 IBLI Noaman_Normal.pdf\"),\n",
       " WindowsPath(\"C:/Users/lvolat/COMPTOIRS ET COMMERCES/COMMERCIAL - Documents/2 - DOSSIERS à l'ETUDE/CHIEN QUI FUME (Le) - 75001 PARIS - 33 Rue du PONT-NEUF/5. SOCIAL/PAIE 10/GALLA_202410 KEERTHY MOHAN Sanmugan_Normal.pdf\"),\n",
       " WindowsPath(\"C:/Users/lvolat/COMPTOIRS ET COMMERCES/COMMERCIAL - Documents/2 - DOSSIERS à l'ETUDE/CHIEN QUI FUME (Le) - 75001 PARIS - 33 Rue du PONT-NEUF/5. SOCIAL/PAIE 10/GALLA_202410 MAINGAULT Lola_Normal.pdf\"),\n",
       " WindowsPath(\"C:/Users/lvolat/COMPTOIRS ET COMMERCES/COMMERCIAL - Documents/2 - DOSSIERS à l'ETUDE/CHIEN QUI FUME (Le) - 75001 PARIS - 33 Rue du PONT-NEUF/5. SOCIAL/PAIE 10/GALLA_202410 MIALANE Fabienne_Normal.pdf\"),\n",
       " WindowsPath(\"C:/Users/lvolat/COMPTOIRS ET COMMERCES/COMMERCIAL - Documents/2 - DOSSIERS à l'ETUDE/CHIEN QUI FUME (Le) - 75001 PARIS - 33 Rue du PONT-NEUF/5. SOCIAL/PAIE 10/GALLA_202410 MIALANE Olivier_Normal.pdf\"),\n",
       " WindowsPath(\"C:/Users/lvolat/COMPTOIRS ET COMMERCES/COMMERCIAL - Documents/2 - DOSSIERS à l'ETUDE/CHIEN QUI FUME (Le) - 75001 PARIS - 33 Rue du PONT-NEUF/5. SOCIAL/PAIE 10/GALLA_202410 MIALANE Thomas_Normal.pdf\"),\n",
       " WindowsPath(\"C:/Users/lvolat/COMPTOIRS ET COMMERCES/COMMERCIAL - Documents/2 - DOSSIERS à l'ETUDE/CHIEN QUI FUME (Le) - 75001 PARIS - 33 Rue du PONT-NEUF/5. SOCIAL/PAIE 10/GALLA_202410 NDIAYE Moustapha_Normal.pdf\"),\n",
       " WindowsPath(\"C:/Users/lvolat/COMPTOIRS ET COMMERCES/COMMERCIAL - Documents/2 - DOSSIERS à l'ETUDE/CHIEN QUI FUME (Le) - 75001 PARIS - 33 Rue du PONT-NEUF/5. SOCIAL/PAIE 10/GALLA_202410 NILLES Bernard_Normal.pdf\"),\n",
       " WindowsPath(\"C:/Users/lvolat/COMPTOIRS ET COMMERCES/COMMERCIAL - Documents/2 - DOSSIERS à l'ETUDE/CHIEN QUI FUME (Le) - 75001 PARIS - 33 Rue du PONT-NEUF/5. SOCIAL/PAIE 10/GALLA_202410 POTINO Siana_Normal.pdf\"),\n",
       " WindowsPath(\"C:/Users/lvolat/COMPTOIRS ET COMMERCES/COMMERCIAL - Documents/2 - DOSSIERS à l'ETUDE/CHIEN QUI FUME (Le) - 75001 PARIS - 33 Rue du PONT-NEUF/5. SOCIAL/PAIE 10/GALLA_202410 POUCHARD Nicolas_Normal.pdf\"),\n",
       " WindowsPath(\"C:/Users/lvolat/COMPTOIRS ET COMMERCES/COMMERCIAL - Documents/2 - DOSSIERS à l'ETUDE/CHIEN QUI FUME (Le) - 75001 PARIS - 33 Rue du PONT-NEUF/5. SOCIAL/PAIE 10/GALLA_202410 SISSOKO Lassana_Normal.pdf\"),\n",
       " WindowsPath(\"C:/Users/lvolat/COMPTOIRS ET COMMERCES/COMMERCIAL - Documents/2 - DOSSIERS à l'ETUDE/CHIEN QUI FUME (Le) - 75001 PARIS - 33 Rue du PONT-NEUF/5. SOCIAL/PAIE 10/GALLA_202410 THAYANANTHARAJAH Namasivayam_Normal.pdf\"),\n",
       " WindowsPath(\"C:/Users/lvolat/COMPTOIRS ET COMMERCES/COMMERCIAL - Documents/2 - DOSSIERS à l'ETUDE/CHIEN QUI FUME (Le) - 75001 PARIS - 33 Rue du PONT-NEUF/5. SOCIAL/PAIE 10/GALLA_202410 VIGUIER Bruno_Normal.pdf\")]"
      ]
     },
     "execution_count": 23,
     "metadata": {},
     "output_type": "execute_result"
    }
   ],
   "source": [
    "l"
   ]
  },
  {
   "cell_type": "code",
   "execution_count": null,
   "metadata": {},
   "outputs": [
    {
     "name": "stderr",
     "output_type": "stream",
     "text": [
      "cocoAI - INFO - C:\\Users\\lvolat\\COMPTOIRS ET COMMERCES\\COMMERCIAL - Documents\\2 - DOSSIERS à l'ETUDE\\CHIEN QUI FUME (Le) - 75001 PARIS - 33 Rue du PONT-NEUF\\5. SOCIAL\\PAIE 10\\GALLA_202410 FAROUX Sarah_Dernier.pdf has been copied to C:\\Users\\lvolat\\Documents\\cocoAI\\data\\2_-_DOSSIERS_lETUDE\\CHIEN_QUI_FUME_Le_-_75001_PARIS_-_33_Rue_du_PONT-NEUF\\5._SOCIAL\\PAIE_10\n"
     ]
    }
   ],
   "source": [
    "\n",
    "for bulletin in [l[0]]:\n",
    "    pdf_file_path = rapatrie_file(bulletin)\n",
    "    ocr_response = process_pdf_by_Mistral(pdf_file_path)\n",
    "    ocr_markdown = response_dict[\"pages\"][0][\"markdown\"]\n",
    "    request = (\n",
    "    f\"Voici le bulletin de salaire en markdown:\\n\\n{ocr_markdown}\\n.\\n\"\n",
    "    \"Extrais toutes ces informations au format pandas\"\n",
    "    )\n",
    "    content = get_ministral_answer(request)\n",
    "    \n",
    "    # with open()\n",
    "    "
   ]
  },
  {
   "cell_type": "code",
   "execution_count": 25,
   "metadata": {},
   "outputs": [
    {
     "ename": "NameError",
     "evalue": "name 'content' is not defined",
     "output_type": "error",
     "traceback": [
      "\u001b[31m---------------------------------------------------------------------------\u001b[39m",
      "\u001b[31mNameError\u001b[39m                                 Traceback (most recent call last)",
      "\u001b[36mCell\u001b[39m\u001b[36m \u001b[39m\u001b[32mIn[2]\u001b[39m\u001b[32m, line 4\u001b[39m\n\u001b[32m      1\u001b[39m \u001b[38;5;28;01mfrom\u001b[39;00m\u001b[38;5;250m \u001b[39m\u001b[34;01mpprint\u001b[39;00m\u001b[38;5;250m \u001b[39m\u001b[38;5;28;01mimport\u001b[39;00m pprint\n\u001b[32m----> \u001b[39m\u001b[32m4\u001b[39m pprint(\u001b[43mcontent\u001b[49m)\n",
      "\u001b[31mNameError\u001b[39m: name 'content' is not defined"
     ]
    }
   ],
   "source": [
    "from pprint import pprint\n",
    "\n",
    "\n",
    "pprint(content)"
   ]
  }
 ],
 "metadata": {
  "kernelspec": {
   "display_name": ".venv (3.13.2)",
   "language": "python",
   "name": "python3"
  },
  "language_info": {
   "codemirror_mode": {
    "name": "ipython",
    "version": 3
   },
   "file_extension": ".py",
   "mimetype": "text/x-python",
   "name": "python",
   "nbconvert_exporter": "python",
   "pygments_lexer": "ipython3",
   "version": "3.13.2"
  }
 },
 "nbformat": 4,
 "nbformat_minor": 2
}
