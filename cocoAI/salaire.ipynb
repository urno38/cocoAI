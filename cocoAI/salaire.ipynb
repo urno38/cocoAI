{
 "cells": [
  {
   "cell_type": "code",
   "execution_count": 1,
   "metadata": {},
   "outputs": [
    {
     "name": "stdout",
     "output_type": "stream",
     "text": [
      "logfile available C:\\Users\\lvolat\\Documents\\cocoAI\\cocoAI\\ipykernel_launcher.log\n"
     ]
    },
    {
     "name": "stderr",
     "output_type": "stream",
     "text": [
      "cocoAI - INFO - 2022 - GALLA - BILAN.pdf already exists in 3._DOCUMENTATION_FINANCIRE\n"
     ]
    }
   ],
   "source": [
    "from mistralai import Mistral\n",
    "import os\n",
    "\n",
    "from common.keys import MISTRAL_API_KEY_PAYANTE\n",
    "from common.path import COMMERCIAL_ONE_DRIVE_PATH, rapatrie_file\n",
    "\n",
    "client = Mistral(api_key=MISTRAL_API_KEY_PAYANTE)\n",
    "\n",
    "CHIEN_QUI_FUME_PATH = (\n",
    "    COMMERCIAL_ONE_DRIVE_PATH\n",
    "    / \"2 - DOSSIERS à l'ETUDE\"\n",
    "    / \"CHIEN QUI FUME (Le) - 75001 PARIS - 33 Rue du PONT-NEUF\"\n",
    ")\n",
    "\n",
    "pdf_path = (\n",
    "    CHIEN_QUI_FUME_PATH / \"3. DOCUMENTATION FINANCIÈRE\" / \"2022 - GALLA - BILAN.pdf\"\n",
    ")\n",
    "pdf_file_path = rapatrie_file(pdf_path)\n",
    "\n"
   ]
  },
  {
   "cell_type": "code",
   "execution_count": 2,
   "metadata": {},
   "outputs": [],
   "source": [
    "\n",
    "uploaded_pdf = client.files.upload(\n",
    "    file={\n",
    "        \"file_name\": pdf_file_path.name,\n",
    "        \"content\": open(pdf_file_path, \"rb\"),\n",
    "    },\n",
    "    purpose=\"ocr\"\n",
    ")  "
   ]
  },
  {
   "cell_type": "code",
   "execution_count": 3,
   "metadata": {},
   "outputs": [
    {
     "data": {
      "text/plain": [
       "RetrieveFileOut(id='446503b2-b83e-40fc-9fd7-754fe052af78', object='file', size_bytes=3220883, created_at=1742567625, filename='2022_-_GALLA_-_BILAN.pdf', purpose='ocr', sample_type='ocr_input', source='upload', deleted=False, num_lines=None)"
      ]
     },
     "execution_count": 3,
     "metadata": {},
     "output_type": "execute_result"
    }
   ],
   "source": [
    "client.files.retrieve(file_id=uploaded_pdf.id)"
   ]
  },
  {
   "cell_type": "code",
   "execution_count": 4,
   "metadata": {},
   "outputs": [],
   "source": [
    "signed_url = client.files.get_signed_url(file_id=uploaded_pdf.id)"
   ]
  },
  {
   "cell_type": "code",
   "execution_count": null,
   "metadata": {},
   "outputs": [],
   "source": [
    "# from mistralai import Mistral\n",
    "# client = Mistral(api_key=MISTRAL_API_KEY_PAYANTE)\n"
   ]
  },
  {
   "cell_type": "code",
   "execution_count": null,
   "metadata": {},
   "outputs": [],
   "source": [
    "ocr_response = client.ocr.process(\n",
    "    model=\"mistral-ocr-latest\",\n",
    "    document={\n",
    "        \"type\": \"document_url\",\n",
    "        \"document_url\": signed_url.url,\n",
    "    }\n",
    ")"
   ]
  },
  {
   "cell_type": "code",
   "execution_count": null,
   "metadata": {},
   "outputs": [],
   "source": [
    "# Import required libraries\n",
    "import json\n",
    "\n",
    "from IPython.display import Markdown, display\n",
    "from mistralai import DocumentURLChunk, Mistral\n",
    "from mistralai.models import OCRResponse\n",
    "from common.path import COMMERCIAL_ONE_DRIVE_PATH, rapatrie_file\n",
    "\n",
    "\n",
    "api_key = MISTRAL_API_KEY_PAYANTE  # Replace with your API key\n",
    "client = Mistral(api_key=api_key)\n",
    "\n",
    "\n",
    "\n",
    "# Upload PDF file to Mistral's OCR service\n",
    "uploaded_file = client.files.upload(\n",
    "    file={\n",
    "        \"file_name\": pdf_file_path.stem,\n",
    "        \"content\": pdf_file_path.read_bytes(),\n",
    "    },\n",
    "    purpose=\"ocr\",\n",
    ")\n",
    "\n",
    "# Get URL for the uploaded file\n",
    "signed_url = client.files.get_signed_url(file_id=uploaded_file.id, expiry=1)\n",
    "\n",
    "# Process PDF with OCR, including embedded images\n",
    "pdf_response = client.ocr.process(\n",
    "    document=DocumentURLChunk(document_url=signed_url.url),\n",
    "    model=\"mistral-ocr-latest\",\n",
    "    include_image_base64=True,\n",
    ")\n",
    "\n",
    "# Convert response to JSON format\n",
    "response_dict = json.loads(pdf_response.model_dump_json())\n",
    "\n",
    "print(json.dumps(response_dict, indent=4)[0:1000])  # check the first 1000 characters\n",
    "\n"
   ]
  },
  {
   "cell_type": "code",
   "execution_count": null,
   "metadata": {},
   "outputs": [],
   "source": [
    "\n",
    "def replace_images_in_markdown(markdown_str: str, images_dict: dict) -> str:\n",
    "    \"\"\"\n",
    "    Replace image placeholders in markdown with base64-encoded images.\n",
    "\n",
    "    Args:\n",
    "        markdown_str: Markdown text containing image placeholders\n",
    "        images_dict: Dictionary mapping image IDs to base64 strings\n",
    "\n",
    "    Returns:\n",
    "        Markdown text with images replaced by base64 data\n",
    "    \"\"\"\n",
    "    for img_name, base64_str in images_dict.items():\n",
    "        markdown_str = markdown_str.replace(\n",
    "            f\"![{img_name}]({img_name})\", f\"![{img_name}]({base64_str})\"\n",
    "        )\n",
    "    return markdown_str\n",
    "\n",
    "\n",
    "def get_combined_markdown(ocr_response: OCRResponse) -> str:\n",
    "    \"\"\"\n",
    "    Combine OCR text and images into a single markdown document.\n",
    "\n",
    "    Args:\n",
    "        ocr_response: Response from OCR processing containing text and images\n",
    "\n",
    "    Returns:\n",
    "        Combined markdown string with embedded images\n",
    "    \"\"\"\n",
    "    markdowns: list[str] = []\n",
    "    # Extract images from page\n",
    "    for page in ocr_response.pages:\n",
    "        image_data = {}\n",
    "        for img in page.images:\n",
    "            image_data[img.id] = img.image_base64\n",
    "        # Replace image placeholders with actual images\n",
    "        markdowns.append(replace_images_in_markdown(page.markdown, image_data))\n",
    "\n",
    "    return \"\\n\\n\".join(markdowns)\n",
    "\n",
    "\n",
    "# Display combined markdowns and images\n",
    "# display(Markdown(get_combined_markdown(pdf_response)))\n",
    "\n"
   ]
  },
  {
   "cell_type": "code",
   "execution_count": null,
   "metadata": {},
   "outputs": [],
   "source": [
    "import os\n",
    "from mistralai import Mistral\n",
    "\n",
    "# Retrieve the API key from environment variables\n",
    "api_key = MISTRAL_API_KEY_PAYANTE\n",
    "\n",
    "# Specify model\n",
    "model = \"mistral-small-latest\"\n",
    "\n",
    "# Initialize the Mistral client\n",
    "client = Mistral(api_key=api_key)\n",
    "\n",
    "# Define the messages for the chat\n",
    "messages = [\n",
    "    {\n",
    "        \"role\": \"user\",\n",
    "        \"content\": [\n",
    "            {\n",
    "                \"type\": \"text\",\n",
    "                \"text\": \"quel est le montant des immoblisations incorporelles pour l'exercice 2021?\"\n",
    "                # \"text\": \"quel est le chiffre d'affaires en 2022 ?\"\n",
    "            },\n",
    "            {\n",
    "                \"type\": \"document_url\",\n",
    "                \"document_url\": signed_url.url\n",
    "            }\n",
    "        ]\n",
    "    }\n",
    "]\n",
    "\n",
    "# Get the chat response\n",
    "chat_response = client.chat.complete(\n",
    "    model=model,\n",
    "    messages=messages\n",
    ")\n",
    "\n",
    "# Print the content of the response\n",
    "print(chat_response.choices[0].message.content)"
   ]
  }
 ],
 "metadata": {
  "kernelspec": {
   "display_name": ".venv (3.13.2)",
   "language": "python",
   "name": "python3"
  },
  "language_info": {
   "codemirror_mode": {
    "name": "ipython",
    "version": 3
   },
   "file_extension": ".py",
   "mimetype": "text/x-python",
   "name": "python",
   "nbconvert_exporter": "python",
   "pygments_lexer": "ipython3",
   "version": "3.13.2"
  }
 },
 "nbformat": 4,
 "nbformat_minor": 2
}
