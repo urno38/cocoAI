{
 "cells": [
  {
   "cell_type": "code",
   "execution_count": null,
   "metadata": {},
   "outputs": [],
   "source": [
    "from common.FEC import load_excel_data, load_txt_data\n",
    "from common.path import COMMERCIAL_DOCUMENTS_PATH\n",
    "\n",
    "\n",
    "from common.path import rapatrie_file\n",
    "import pandas as pd\n",
    "\n",
    "\n",
    "CHIEN_QUI_FUME_PATH = (\n",
    "    COMMERCIAL_DOCUMENTS_PATH\n",
    "    / \"2 - DOSSIERS à l'ETUDE\"\n",
    "    / \"1 - FONDS DE COMMERCES\"\n",
    "    / \"CHIEN QUI FUME (Le) - 75001 PARIS - 33 Rue du PONT-NEUF\"\n",
    "    / \"3. DOCUMENTATION FINANCIÈRE\"\n",
    ")\n",
    "path_list = [\n",
    "    CHIEN_QUI_FUME_PATH / \"2022 - GALLA - GL.xlsx\",\n",
    "    CHIEN_QUI_FUME_PATH / \"2023 - GALLA - GL.xlsx\",\n",
    "]\n",
    "\n",
    "df = load_excel_data(path_list)\n",
    "\n",
    "\n",
    "DEI_FRATELLI_PATH = (\n",
    "    COMMERCIAL_DOCUMENTS_PATH\n",
    "    / \"1 - DOSSIERS EN COURS DE SIGNATURE\"\n",
    "    / \"DEI FRATELLI - 75001 PARIS - 10 Rue des PYRAMIDES\"\n",
    "    / \"3. DOCUMENTATION FINANCIÈRE\"\n",
    ")\n",
    "\n",
    "path_list = [DEI_FRATELLI_PATH / \"839951027FEC20231231.txt\"]\n",
    "df2 = load_txt_data(path_list)"
   ]
  },
  {
   "cell_type": "code",
   "execution_count": null,
   "metadata": {},
   "outputs": [],
   "source": [
    "df.columns"
   ]
  },
  {
   "cell_type": "code",
   "execution_count": null,
   "metadata": {},
   "outputs": [],
   "source": [
    "df2.head()"
   ]
  },
  {
   "cell_type": "code",
   "execution_count": null,
   "metadata": {},
   "outputs": [],
   "source": [
    "df2.Compte"
   ]
  },
  {
   "cell_type": "code",
   "execution_count": null,
   "metadata": {},
   "outputs": [],
   "source": [
    "df.head()"
   ]
  },
  {
   "cell_type": "code",
   "execution_count": null,
   "metadata": {},
   "outputs": [],
   "source": []
  },
  {
   "cell_type": "code",
   "execution_count": null,
   "metadata": {},
   "outputs": [],
   "source": [
    "path_list"
   ]
  },
  {
   "cell_type": "code",
   "execution_count": null,
   "metadata": {},
   "outputs": [],
   "source": [
    "from datetime import datetime\n",
    "from pathlib import Path\n",
    "import pandas as pd\n",
    "DEI_FRATELLI_PATH = (\n",
    "    COMMERCIAL_DOCUMENTS_PATH\n",
    "    / \"1 - DOSSIERS EN COURS DE SIGNATURE\"\n",
    "    / \"DEI FRATELLI - 75001 PARIS - 10 Rue des PYRAMIDES\"\n",
    "    / \"3. DOCUMENTATION FINANCIÈRE\"\n",
    ")\n",
    "\n",
    "path_list=[DEI_FRATELLI_PATH / \"839951027FEC20231231\"]\n",
    "path_list=[Path(r\"C:\\Users\\lvolat\\COMPTOIRS ET COMMERCES\\COMMERCIAL - Documents\\1 - DOSSIERS EN COURS DE SIGNATURE\\DEI FRATELLI - 75001 PARIS - 10 Rue des PYRAMIDES\\3. DOCUMENTATION FINANCIÈRE\\839951027FEC20231231.txt\")]\n",
    "df = pd.read_csv(path_list[0],sep='\\t')\n"
   ]
  },
  {
   "cell_type": "code",
   "execution_count": null,
   "metadata": {},
   "outputs": [],
   "source": [
    "for i in df['PieceDate'].values:\n",
    "    print(i)\n",
    "    print(datetime.strptime(str(i), \"%Y%m%d\"))\n",
    "    "
   ]
  },
  {
   "cell_type": "code",
   "execution_count": null,
   "metadata": {},
   "outputs": [],
   "source": [
    "\n",
    "for i in df['PieceDate'].values:\n",
    "    print(i,datetime.strptime(str(i).strip(), \"%d%m%Y\"))\n"
   ]
  },
  {
   "cell_type": "code",
   "execution_count": null,
   "metadata": {},
   "outputs": [],
   "source": [
    "from datetime import datetime\n",
    "\n",
    "\n",
    "def load_txt_data(path_list):\n",
    "    # Compte Date Débit Crédit\n",
    "    df = pd.concat(\n",
    "        [pd.read_csv(p, dtype={\"PieceDate\": str}, sep=\"\\t\") for p in path_list]\n",
    "    )\n",
    "    df[\"Compte\"] = df[\"EcritureNum\"]\n",
    "    df[\"Débit\"] = df[\"Debit\"]\n",
    "    df[\"Crédit\"] = df[\"Credit\"]\n",
    "    df[\"Date\"] = df[\"PieceDate\"]\n",
    "    df[\"Date\"] = df[\"Date\"].apply(lambda x: datetime.strptime(str(x).strip(), \"%d%m%Y\"))\n",
    "    return df"
   ]
  },
  {
   "cell_type": "code",
   "execution_count": null,
   "metadata": {},
   "outputs": [],
   "source": [
    "df.PieceDate.values.tolist()"
   ]
  },
  {
   "cell_type": "code",
   "execution_count": null,
   "metadata": {},
   "outputs": [],
   "source": [
    "df.loc[0].T"
   ]
  },
  {
   "cell_type": "code",
   "execution_count": null,
   "metadata": {},
   "outputs": [],
   "source": [
    "print(len(df[~df.PieceDate.isnull()]),len(df))"
   ]
  },
  {
   "cell_type": "code",
   "execution_count": null,
   "metadata": {},
   "outputs": [],
   "source": [
    "from cocoAI.company import get_infos_from_a_siren\n",
    "\n",
    "\n",
    "get_infos_from_a_siren(799037429)"
   ]
  },
  {
   "cell_type": "code",
   "execution_count": null,
   "metadata": {},
   "outputs": [],
   "source": [
    "from cocoAI.extract_KBIS import get_SIREN\n",
    "from pathlib import Path\n",
    "\n",
    "KBIS_path_list = (\n",
    "    list(\n",
    "        Path(r\"C:\\Users\\lvolat\\COMPTOIRS ET COMMERCES\\COMMERCIAL - Documents\").rglob(\n",
    "            \"*KBIS*\", case_sensitive=False\n",
    "        )\n",
    "    )\n",
    "    + list(\n",
    "        Path(r\"C:\\Users\\lvolat\\COMPTOIRS ET COMMERCES\\COMMERCIAL - Documents\").rglob(\n",
    "            \"*K_BIS*\", case_sensitive=False\n",
    "        )\n",
    "    )\n",
    "    + list(\n",
    "        Path(r\"C:\\Users\\lvolat\\COMPTOIRS ET COMMERCES\\COMMERCIAL - Documents\").rglob(\n",
    "            \"*K-BIS*\", case_sensitive=False\n",
    "        )\n",
    "    )\n",
    ")\n",
    "\n",
    "for p in KBIS_path_list:\n",
    "    if p.suffix=='.pdf':\n",
    "        siren_list = []\n",
    "        try:\n",
    "            siren = get_SIREN(p)\n",
    "            siren_list.append(siren)\n",
    "        except:\n",
    "            pass\n",
    "        \n",
    "for siren in siren_list:\n",
    "    get_infos_from_a_siren(siren)"
   ]
  },
  {
   "cell_type": "code",
   "execution_count": 5,
   "metadata": {},
   "outputs": [
    {
     "name": "stdout",
     "output_type": "stream",
     "text": [
      "C:\\Users\\lvolat\\Documents\\cocoAI\\data\\2_DOSSIERS_a_l'ETUDE\\CORDONNERIE_75016_PARIS_35_Rue_de_L'ANNONCIATION\\KBIS.json\n",
      "C:\\Users\\lvolat\\Documents\\cocoAI\\data\\2_DOSSIERS_a_l'ETUDE\\JAJA_92500_RUEIL_MALMAISON_181_Avenue_du_18_Juin_1940\\JAJA_GERANCE\\Extrait_KBIS_Dossier_Complet_Jaja.json\n",
      "C:\\Users\\lvolat\\Documents\\cocoAI\\data\\2_DOSSIERS_a_l'ETUDE\\JAD_PARIS_75002_35_Bld_BONNE_NOUVELLE\\2._JURIDIQUE_SOCIÉTÉ\\2._JAD_Kbis_35_et_37_Bd_de_Bonne_Nouvelle.json\n",
      "C:\\Users\\lvolat\\Documents\\cocoAI\\data\\2_DOSSIERS_a_l'ETUDE\\JAD_PARIS_75002_35_Bld_BONNE_NOUVELLE\\2._JURIDIQUE_SOCIÉTÉ\\2._Kbis_KADI_INVEST.json\n",
      "C:\\Users\\lvolat\\Documents\\cocoAI\\data\\2_DOSSIERS_a_l'ETUDE\\JAD_PARIS_75002_35_Bld_BONNE_NOUVELLE\\2._JURIDIQUE_SOCIÉTÉ\\2._SKJ_Extrait_KBIS.json\n",
      "C:\\Users\\lvolat\\Documents\\cocoAI\\data\\2_DOSSIERS_a_l'ETUDE\\BROOKLYN_CAFE_75017_PARIS_32_Place_Saint_FERDINAND\\2._JURIDIQUE_SOCIÉTÉ\\KBIS\\KBIS.json\n",
      "C:\\Users\\lvolat\\Documents\\cocoAI\\data\\2_DOSSIERS_a_l'ETUDE\\3_LOCATION\\CORDONNERIE_75016_PARIS_35_Rue_de_L'ANNONCIATION\\KBIS.json\n",
      "C:\\Users\\lvolat\\Documents\\cocoAI\\data\\2_DOSSIERS_a_l'ETUDE\\1_FONDS_DE_COMMERCES\\BISTROT_DU_FAUBOURG_12_Allee_de_l'ARCHE_92400_COURBEVOIE\\Extrait_KBIS_MJ_ASTRUC.json\n",
      "C:\\Users\\lvolat\\Documents\\cocoAI\\data\\2_DOSSIERS_a_l'ETUDE\\1_FONDS_DE_COMMERCES\\BON_JACQUES_Le_75017_34_Rue_Jouffroy_d'ABBANS\\Kbis_Au_bon_Jacques_10-03-23.json\n",
      "C:\\Users\\lvolat\\Documents\\cocoAI\\data\\2_DOSSIERS_a_l'ETUDE\\1_FONDS_DE_COMMERCES\\BON_JACQUES_Le_75017_34_Rue_Jouffroy_d'ABBANS\\SAS_FERNAND_EXTRAIT_KBIS_CONTITUTIF_AU_19_JUIL_2022.json\n",
      "C:\\Users\\lvolat\\Documents\\cocoAI\\data\\2_DOSSIERS_a_l'ETUDE\\1_FONDS_DE_COMMERCES\\MONTCASTEL_SARL_Patrick_NONNET\\3_KBIS_MONCASTEL.json\n",
      "C:\\Users\\lvolat\\Documents\\cocoAI\\data\\2_DOSSIERS_a_l'ETUDE\\1_FONDS_DE_COMMERCES\\PORTE_MONTMARTRE_La_75018_PARIS_87_Bld_NEY\\Extrait_KBIS_ERWAN.json\n",
      "C:\\Users\\lvolat\\Documents\\cocoAI\\data\\2_DOSSIERS_a_l'ETUDE\\1_FONDS_DE_COMMERCES\\ZACK_RESTAURANT_93000_SAINT_DENIS_24_Avenue_des_FRUITIERS\\JURIDIQUE\\kbis_louna_juil2022.json\n",
      "C:\\Users\\lvolat\\Documents\\cocoAI\\data\\2_DOSSIERS_a_l'ETUDE\\1_FONDS_DE_COMMERCES\\ZACK_RESTAURANT_93000_SAINT_DENIS_24_Avenue_des_FRUITIERS\\OLD\\kbis_louna_juil2022.json\n",
      "C:\\Users\\lvolat\\Documents\\cocoAI\\data\\2_DOSSIERS_a_l'ETUDE\\1_FONDS_DE_COMMERCES\\PAOLA_94300_VINCENNES_60_Rue_de_MONTREUIL\\2023_PAOLA\\GERANCE_BGV\\KBIS\\GRF-KBIS_BGV1.json\n",
      "C:\\Users\\lvolat\\Documents\\cocoAI\\data\\2_DOSSIERS_a_l'ETUDE\\1_FONDS_DE_COMMERCES\\PAOLA_94300_VINCENNES_60_Rue_de_MONTREUIL\\2023_PAOLA\\GERANCE_BGV\\KBIS\\KBIS_BGV.json\n",
      "C:\\Users\\lvolat\\Documents\\cocoAI\\data\\2_DOSSIERS_a_l'ETUDE\\1_FONDS_DE_COMMERCES\\LOUIS_XVI_75008_PARIS -_47_Rue_des_MATHURINS\\1._JURIDIQUE_SOCIÉTÉ\\20211001_Kbis.json\n",
      "C:\\Users\\lvolat\\Documents\\cocoAI\\data\\2_DOSSIERS_a_l'ETUDE\\1_FONDS_DE_COMMERCES\\GROUPE_DORR\\4_DOSSIERS_SITE_PAR_SITE\\5_MADISSON_10_Chaussee_de_La_MUETTE_75016_PARIS\\KBIS_17.12.10.json\n",
      "C:\\Users\\lvolat\\Documents\\cocoAI\\data\\2_DOSSIERS_a_l'ETUDE\\1_FONDS_DE_COMMERCES\\DA_ROSA_75001_PARIS_7_Rue_ROUGET_de_l'ISLE\\1._JURIDIQUE_SOCIÉTÉ\\Extrait_KBIS_DA_ROSA_2.json\n",
      "C:\\Users\\lvolat\\Documents\\cocoAI\\data\\2_DOSSIERS_a_l'ETUDE\\1_FONDS_DE_COMMERCES\\COMPAGNIE_La_75017_PARIS_123_Av_de_WAGRAM\\1._JURIDIQUE_SOCIÉTÉ\\2020-06-07_KBis.json\n",
      "C:\\Users\\lvolat\\Documents\\cocoAI\\data\\2_DOSSIERS_a_l'ETUDE\\1_FONDS_DE_COMMERCES\\COMPAGNIE_La_75017_PARIS_123_Av_de_WAGRAM\\1._JURIDIQUE_SOCIÉTÉ\\SARL_LUDIVINE_KBIS_20200607.json\n",
      "C:\\Users\\lvolat\\Documents\\cocoAI\\data\\2_DOSSIERS_a_l'ETUDE\\1_FONDS_DE_COMMERCES\\CLOS_BOURGUIGNON_Le_75009_PARIS_39_Rue_CAUMARTIN\\JURIDIQUE\\GRF-KBIS.json\n",
      "C:\\Users\\lvolat\\Documents\\cocoAI\\data\\2_DOSSIERS_a_l'ETUDE\\1_FONDS_DE_COMMERCES\\CANTINA_75016_CLAUDE_TERRASSE_16\\FONDS_DE_COMMERCE\\KBIS.json\n",
      "C:\\Users\\lvolat\\Documents\\cocoAI\\data\\2_DOSSIERS_a_l'ETUDE\\1_FONDS_DE_COMMERCES\\BROOKLYN_CAFE_75017_PARIS_32_Place_Saint_FERDINAND\\2._JURIDIQUE_SOCIÉTÉ\\KBIS\\KBIS.json\n",
      "C:\\Users\\lvolat\\Documents\\cocoAI\\data\\2_DOSSIERS_a_l'ETUDE\\1_FONDS_DE_COMMERCES\\2BC_AUBRAC_BORREL_BONNENFANT\\Administratif\\kbis_2bc.json\n",
      "C:\\Users\\lvolat\\Documents\\cocoAI\\data\\100_DOSSIERS_ARCHIVÉS\\2_ARCHIVES_DOSSIERS_SCANNÉS\\1_DOSSIERS_SCANNÉS_BRASSERIES_&_DIVERS\\AFFRANCHIS_98_Rue_de_TOLBIAC_75013_PARIS\\Extrait_Kbis_de_la_societe_JUMI.json\n",
      "C:\\Users\\lvolat\\Documents\\cocoAI\\data\\100_DOSSIERS_ARCHIVÉS\\2_ARCHIVES_DOSSIERS_SCANNÉS\\1_DOSSIERS_SCANNÉS_BRASSERIES_&_DIVERS\\AFFRANCHIS_98_Rue_de_TOLBIAC_75013_PARIS\\Extrait_Kbis_de_la_societe_SCH9_HOLDING.json\n",
      "C:\\Users\\lvolat\\Documents\\cocoAI\\data\\100_DOSSIERS_ARCHIVÉS\\2_ARCHIVES_DOSSIERS_SCANNÉS\\1_DOSSIERS_SCANNÉS_BRASSERIES_&_DIVERS\\AUSTERLITZ_K'FE_4_Bld_de_l'Hopital_75005_Paris_Mr_Raynal\\KBIS.json\n",
      "C:\\Users\\lvolat\\Documents\\cocoAI\\data\\100_DOSSIERS_ARCHIVÉS\\2_ARCHIVES_DOSSIERS_SCANNÉS\\1_DOSSIERS_SCANNÉS_BRASSERIES_&_DIVERS\\AU_BON_COIN_49Rue_des_CLOYS_75019_PARIS\\KBIS.json\n",
      "C:\\Users\\lvolat\\Documents\\cocoAI\\data\\100_DOSSIERS_ARCHIVÉS\\2_ARCHIVES_DOSSIERS_SCANNÉS\\1_DOSSIERS_SCANNÉS_BRASSERIES_&_DIVERS\\BEAUCOUR_16_Aenue_HOCHE_75008_PARIS\\Kbis_Le_Beaucour_au_26-06-23.json\n",
      "C:\\Users\\lvolat\\Documents\\cocoAI\\data\\100_DOSSIERS_ARCHIVÉS\\2_ARCHIVES_DOSSIERS_SCANNÉS\\1_DOSSIERS_SCANNÉS_BRASSERIES_&_DIVERS\\BEAUCOUR_16_Aenue_HOCHE_75008_PARIS\\Kbis_Le_Beaucour_au_26-06-23[27].json\n",
      "C:\\Users\\lvolat\\Documents\\cocoAI\\data\\100_DOSSIERS_ARCHIVÉS\\2_ARCHIVES_DOSSIERS_SCANNÉS\\1_DOSSIERS_SCANNÉS_BRASSERIES_&_DIVERS\\BLISS_10_Rue_Coquillere_75003_PARIS\\Kbis.json\n",
      "C:\\Users\\lvolat\\Documents\\cocoAI\\data\\100_DOSSIERS_ARCHIVÉS\\2_ARCHIVES_DOSSIERS_SCANNÉS\\1_DOSSIERS_SCANNÉS_BRASSERIES_&_DIVERS\\BLUE_BAR\\kbis.json\n",
      "C:\\Users\\lvolat\\Documents\\cocoAI\\data\\100_DOSSIERS_ARCHIVÉS\\2_ARCHIVES_DOSSIERS_SCANNÉS\\1_DOSSIERS_SCANNÉS_BRASSERIES_&_DIVERS\\BOUDOIR\\Extrait_KBIS_LE_BIZUTH.json\n",
      "C:\\Users\\lvolat\\Documents\\cocoAI\\data\\100_DOSSIERS_ARCHIVÉS\\2_ARCHIVES_DOSSIERS_SCANNÉS\\1_DOSSIERS_SCANNÉS_BRASSERIES_&_DIVERS\\BRASSERIE_DE_L'EUROPE_RUNGIS\\KBIS_TADSA.json\n",
      "C:\\Users\\lvolat\\Documents\\cocoAI\\data\\100_DOSSIERS_ARCHIVÉS\\2_ARCHIVES_DOSSIERS_SCANNÉS\\1_DOSSIERS_SCANNÉS_BRASSERIES_&_DIVERS\\BRILLAT_FAME_DA_LUPPO_CAFE_DE_LA_JATTE\\KBIS_FDL_GERANCE_DUTERTRE.json\n",
      "C:\\Users\\lvolat\\Documents\\cocoAI\\data\\100_DOSSIERS_ARCHIVÉS\\2_ARCHIVES_DOSSIERS_SCANNÉS\\1_DOSSIERS_SCANNÉS_BRASSERIES_&_DIVERS\\BRILLAT_FAME_DA_LUPPO_CAFE_DE_LA_JATTE\\KBIS_SNC_11012016.json\n",
      "C:\\Users\\lvolat\\Documents\\cocoAI\\data\\100_DOSSIERS_ARCHIVÉS\\2_ARCHIVES_DOSSIERS_SCANNÉS\\1_DOSSIERS_SCANNÉS_BRASSERIES_&_DIVERS\\BUISSON_D'ARGENT\\KBIS_LHOPIN_LE_BUISSON_D'ARGENT.json\n",
      "C:\\Users\\lvolat\\Documents\\cocoAI\\data\\100_DOSSIERS_ARCHIVÉS\\2_ARCHIVES_DOSSIERS_SCANNÉS\\1_DOSSIERS_SCANNÉS_BRASSERIES_&_DIVERS\\CAFE_VALENTIN\\kbis_sommeil_belharra.json\n",
      "C:\\Users\\lvolat\\Documents\\cocoAI\\data\\100_DOSSIERS_ARCHIVÉS\\2_ARCHIVES_DOSSIERS_SCANNÉS\\1_DOSSIERS_SCANNÉS_BRASSERIES_&_DIVERS\\CAUSEURS\\KBIS_KADI_FRERE_14032024.json\n",
      "C:\\Users\\lvolat\\Documents\\cocoAI\\data\\100_DOSSIERS_ARCHIVÉS\\2_ARCHIVES_DOSSIERS_SCANNÉS\\1_DOSSIERS_SCANNÉS_BRASSERIES_&_DIVERS\\CLOU_LE_CLOU_30_Av_TRUDAINE_75009_PARIS\\KBis_LE_CLOU_copie.json\n",
      "C:\\Users\\lvolat\\Documents\\cocoAI\\data\\100_DOSSIERS_ARCHIVÉS\\2_ARCHIVES_DOSSIERS_SCANNÉS\\1_DOSSIERS_SCANNÉS_BRASSERIES_&_DIVERS\\CORNER_29_Rue_du_4_Septembre_75009_Paris\\Extrait_KBIS_SK_LE_CORNER_DEC_2023.json\n",
      "C:\\Users\\lvolat\\Documents\\cocoAI\\data\\100_DOSSIERS_ARCHIVÉS\\2_ARCHIVES_DOSSIERS_SCANNÉS\\1_DOSSIERS_SCANNÉS_BRASSERIES_&_DIVERS\\COUR_DE_ROME_46_Rue_PASQUIER_75008_PARIS\\Kbis_2018_04_09.json\n",
      "C:\\Users\\lvolat\\Documents\\cocoAI\\data\\100_DOSSIERS_ARCHIVÉS\\2_ARCHIVES_DOSSIERS_SCANNÉS\\1_DOSSIERS_SCANNÉS_BRASSERIES_&_DIVERS\\DIABLE_DES_LOMBARDS_MORFOISSE\\KBIS_DIABLE_DES_LOMBARDS.json\n",
      "C:\\Users\\lvolat\\Documents\\cocoAI\\data\\100_DOSSIERS_ARCHIVÉS\\2_ARCHIVES_DOSSIERS_SCANNÉS\\1_DOSSIERS_SCANNÉS_BRASSERIES_&_DIVERS\\DONATO\\KBIS_DONATO.json\n",
      "C:\\Users\\lvolat\\Documents\\cocoAI\\data\\100_DOSSIERS_ARCHIVÉS\\2_ARCHIVES_DOSSIERS_SCANNÉS\\1_DOSSIERS_SCANNÉS_BRASSERIES_&_DIVERS\\FAME_DEL_LUPPO\\KBIS_SNC_11012016.json\n",
      "C:\\Users\\lvolat\\Documents\\cocoAI\\data\\100_DOSSIERS_ARCHIVÉS\\2_ARCHIVES_DOSSIERS_SCANNÉS\\1_DOSSIERS_SCANNÉS_BRASSERIES_&_DIVERS\\GRAND_COMPTOIR_D'ANVERS_2_Square_d'ANVERS_75016_PARIS\\KBis_GCA.json\n",
      "C:\\Users\\lvolat\\Documents\\cocoAI\\data\\100_DOSSIERS_ARCHIVÉS\\2_ARCHIVES_DOSSIERS_SCANNÉS\\1_DOSSIERS_SCANNÉS_BRASSERIES_&_DIVERS\\GRAND_VENISE_Le_75015_PARIS_171_Rue_de_la_CONVENTION\\KBIS.pdf.json\n",
      "C:\\Users\\lvolat\\Documents\\cocoAI\\data\\100_DOSSIERS_ARCHIVÉS\\2_ARCHIVES_DOSSIERS_SCANNÉS\\1_DOSSIERS_SCANNÉS_BRASSERIES_&_DIVERS\\KIBALOMA\\Kbis_CM_75.json\n",
      "C:\\Users\\lvolat\\Documents\\cocoAI\\data\\100_DOSSIERS_ARCHIVÉS\\2_ARCHIVES_DOSSIERS_SCANNÉS\\1_DOSSIERS_SCANNÉS_BRASSERIES_&_DIVERS\\LA_LOUVIERE\\Kbis_SEGART.json\n",
      "C:\\Users\\lvolat\\Documents\\cocoAI\\data\\100_DOSSIERS_ARCHIVÉS\\2_ARCHIVES_DOSSIERS_SCANNÉS\\1_DOSSIERS_SCANNÉS_BRASSERIES_&_DIVERS\\MEET_bld_de_la_Defense_–_92700_Nanterre\\MEET_KBIS.json\n",
      "C:\\Users\\lvolat\\Documents\\cocoAI\\data\\100_DOSSIERS_ARCHIVÉS\\2_ARCHIVES_DOSSIERS_SCANNÉS\\1_DOSSIERS_SCANNÉS_BRASSERIES_&_DIVERS\\MONTMARTRE_CAFE_RISPAL\\KBIS_RISPAL.json\n",
      "C:\\Users\\lvolat\\Documents\\cocoAI\\data\\100_DOSSIERS_ARCHIVÉS\\2_ARCHIVES_DOSSIERS_SCANNÉS\\1_DOSSIERS_SCANNÉS_BRASSERIES_&_DIVERS\\ODESSA_28_Rue_d'ODESSA_75014_PARIS\\Kbis_ODESSA_LB.json\n",
      "C:\\Users\\lvolat\\Documents\\cocoAI\\data\\100_DOSSIERS_ARCHIVÉS\\2_ARCHIVES_DOSSIERS_SCANNÉS\\1_DOSSIERS_SCANNÉS_BRASSERIES_&_DIVERS\\PIPLETTES_MARCELLA_CAFE_9_Bld_POISSONNIERE_75002_PARIS_\\KBIS_PIPLETTES_31012024.json\n",
      "C:\\Users\\lvolat\\Documents\\cocoAI\\data\\100_DOSSIERS_ARCHIVÉS\\2_ARCHIVES_DOSSIERS_SCANNÉS\\1_DOSSIERS_SCANNÉS_BRASSERIES_&_DIVERS\\POULE_AU_POT_SARL_THECOR\\KBIS_THECOR.json\n",
      "C:\\Users\\lvolat\\Documents\\cocoAI\\data\\100_DOSSIERS_ARCHIVÉS\\2_ARCHIVES_DOSSIERS_SCANNÉS\\1_DOSSIERS_SCANNÉS_BRASSERIES_&_DIVERS\\RESTAURANT_NUM\\KBIS_HALLES_888.json\n",
      "C:\\Users\\lvolat\\Documents\\cocoAI\\data\\100_DOSSIERS_ARCHIVÉS\\2_ARCHIVES_DOSSIERS_SCANNÉS\\1_DOSSIERS_SCANNÉS_BRASSERIES_&_DIVERS\\SAIN_SERT_3_Rue_ROQUE_de_FILLOL_92800_PUTEAUX\\EXTRAIT_Kbis_IVSR_DU_17_02_2022.json\n"
     ]
    }
   ],
   "source": [
    "import json\n",
    "import sys\n",
    "from cocoAI.extract_KBIS import get_infos\n",
    "from common.REST_API import get_sirene_infos_from_SIREN\n",
    "from common.identifiers import load_siren_in_databank\n",
    "from common.path import DATA_PATH, WORK_PATH, make_unix_compatible\n",
    "\n",
    "\n",
    "for jsonpath in DATA_PATH.rglob('*KBIS*.json'):\n",
    "    print(jsonpath)\n",
    "    with jsonpath.open(\"r\", encoding=\"utf-8\") as f:\n",
    "        di = json.load(f)\n",
    "    try:\n",
    "        SIREN = di['SIREN']\n",
    "        response = get_sirene_infos_from_SIREN(str(di['SIREN']))\n",
    "        din = response.json()\n",
    "        if din[\"header\"][\"statut\"] == 404:\n",
    "            continue\n",
    "        df = get_infos(di['SIREN'])\n",
    "        name = make_unix_compatible(f['denominationUniteLegale'].drop_duplicates().values[0])\n",
    "        print(name,di['SIREN'])\n",
    "        load_siren_in_databank(name, str(di['SIREN']))\n",
    "    except:\n",
    "        continue\n",
    "    # print(df)\n",
    "\n",
    "\n",
    "\n",
    "\n",
    "    \n",
    "    "
   ]
  },
  {
   "cell_type": "code",
   "execution_count": null,
   "metadata": {},
   "outputs": [],
   "source": [
    "din"
   ]
  },
  {
   "cell_type": "code",
   "execution_count": null,
   "metadata": {},
   "outputs": [],
   "source": [
    "df.loc[0].T"
   ]
  }
 ],
 "metadata": {
  "kernelspec": {
   "display_name": ".venv (3.13.2)",
   "language": "python",
   "name": "python3"
  },
  "language_info": {
   "codemirror_mode": {
    "name": "ipython",
    "version": 3
   },
   "file_extension": ".py",
   "mimetype": "text/x-python",
   "name": "python",
   "nbconvert_exporter": "python",
   "pygments_lexer": "ipython3",
   "version": "3.13.2"
  }
 },
 "nbformat": 4,
 "nbformat_minor": 2
}
